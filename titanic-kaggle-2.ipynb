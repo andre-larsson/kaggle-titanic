{
 "cells": [
  {
   "cell_type": "code",
   "execution_count": 1,
   "metadata": {
    "_cell_guid": "b1076dfc-b9ad-4769-8c92-a6c4dae69d19",
    "_uuid": "8f2839f25d086af736a60e9eeb907d3b93b6e0e5",
    "execution": {
     "iopub.execute_input": "2021-01-12T07:59:24.455726Z",
     "iopub.status.busy": "2021-01-12T07:59:24.455001Z",
     "iopub.status.idle": "2021-01-12T07:59:24.459431Z",
     "shell.execute_reply": "2021-01-12T07:59:24.460048Z"
    },
    "papermill": {
     "duration": 0.042602,
     "end_time": "2021-01-12T07:59:24.460234",
     "exception": false,
     "start_time": "2021-01-12T07:59:24.417632",
     "status": "completed"
    },
    "tags": []
   },
   "outputs": [],
   "source": [
    "import numpy as np # linear algebra\n",
    "import pandas as pd # data processing, CSV file I/O (e.g. pd.read_csv)"
   ]
  },
  {
   "cell_type": "markdown",
   "metadata": {
    "papermill": {
     "duration": 0.031944,
     "end_time": "2021-01-12T07:59:24.524825",
     "exception": false,
     "start_time": "2021-01-12T07:59:24.492881",
     "status": "completed"
    },
    "tags": []
   },
   "source": [
    "# Load training and test data"
   ]
  },
  {
   "cell_type": "code",
   "execution_count": 2,
   "metadata": {
    "_cell_guid": "79c7e3d0-c299-4dcb-8224-4455121ee9b0",
    "_uuid": "d629ff2d2480ee46fbb7e2d37f6b5fab8052498a",
    "execution": {
     "iopub.execute_input": "2021-01-12T07:59:24.598908Z",
     "iopub.status.busy": "2021-01-12T07:59:24.598237Z",
     "iopub.status.idle": "2021-01-12T07:59:24.659781Z",
     "shell.execute_reply": "2021-01-12T07:59:24.660287Z"
    },
    "papermill": {
     "duration": 0.102777,
     "end_time": "2021-01-12T07:59:24.660426",
     "exception": false,
     "start_time": "2021-01-12T07:59:24.557649",
     "status": "completed"
    },
    "tags": []
   },
   "outputs": [
    {
     "data": {
      "text/html": [
       "<div>\n",
       "<style scoped>\n",
       "    .dataframe tbody tr th:only-of-type {\n",
       "        vertical-align: middle;\n",
       "    }\n",
       "\n",
       "    .dataframe tbody tr th {\n",
       "        vertical-align: top;\n",
       "    }\n",
       "\n",
       "    .dataframe thead th {\n",
       "        text-align: right;\n",
       "    }\n",
       "</style>\n",
       "<table border=\"1\" class=\"dataframe\">\n",
       "  <thead>\n",
       "    <tr style=\"text-align: right;\">\n",
       "      <th></th>\n",
       "      <th>PassengerId</th>\n",
       "      <th>Survived</th>\n",
       "      <th>Pclass</th>\n",
       "      <th>Name</th>\n",
       "      <th>Sex</th>\n",
       "      <th>Age</th>\n",
       "      <th>SibSp</th>\n",
       "      <th>Parch</th>\n",
       "      <th>Ticket</th>\n",
       "      <th>Fare</th>\n",
       "      <th>Cabin</th>\n",
       "      <th>Embarked</th>\n",
       "      <th>is_train</th>\n",
       "    </tr>\n",
       "  </thead>\n",
       "  <tbody>\n",
       "    <tr>\n",
       "      <th>0</th>\n",
       "      <td>1</td>\n",
       "      <td>0.0</td>\n",
       "      <td>3</td>\n",
       "      <td>Braund, Mr. Owen Harris</td>\n",
       "      <td>male</td>\n",
       "      <td>22.0</td>\n",
       "      <td>1</td>\n",
       "      <td>0</td>\n",
       "      <td>A/5 21171</td>\n",
       "      <td>7.2500</td>\n",
       "      <td>NaN</td>\n",
       "      <td>S</td>\n",
       "      <td>1</td>\n",
       "    </tr>\n",
       "    <tr>\n",
       "      <th>1</th>\n",
       "      <td>2</td>\n",
       "      <td>1.0</td>\n",
       "      <td>1</td>\n",
       "      <td>Cumings, Mrs. John Bradley (Florence Briggs Th...</td>\n",
       "      <td>female</td>\n",
       "      <td>38.0</td>\n",
       "      <td>1</td>\n",
       "      <td>0</td>\n",
       "      <td>PC 17599</td>\n",
       "      <td>71.2833</td>\n",
       "      <td>C85</td>\n",
       "      <td>C</td>\n",
       "      <td>1</td>\n",
       "    </tr>\n",
       "    <tr>\n",
       "      <th>2</th>\n",
       "      <td>3</td>\n",
       "      <td>1.0</td>\n",
       "      <td>3</td>\n",
       "      <td>Heikkinen, Miss. Laina</td>\n",
       "      <td>female</td>\n",
       "      <td>26.0</td>\n",
       "      <td>0</td>\n",
       "      <td>0</td>\n",
       "      <td>STON/O2. 3101282</td>\n",
       "      <td>7.9250</td>\n",
       "      <td>NaN</td>\n",
       "      <td>S</td>\n",
       "      <td>1</td>\n",
       "    </tr>\n",
       "    <tr>\n",
       "      <th>3</th>\n",
       "      <td>4</td>\n",
       "      <td>1.0</td>\n",
       "      <td>1</td>\n",
       "      <td>Futrelle, Mrs. Jacques Heath (Lily May Peel)</td>\n",
       "      <td>female</td>\n",
       "      <td>35.0</td>\n",
       "      <td>1</td>\n",
       "      <td>0</td>\n",
       "      <td>113803</td>\n",
       "      <td>53.1000</td>\n",
       "      <td>C123</td>\n",
       "      <td>S</td>\n",
       "      <td>1</td>\n",
       "    </tr>\n",
       "    <tr>\n",
       "      <th>4</th>\n",
       "      <td>5</td>\n",
       "      <td>0.0</td>\n",
       "      <td>3</td>\n",
       "      <td>Allen, Mr. William Henry</td>\n",
       "      <td>male</td>\n",
       "      <td>35.0</td>\n",
       "      <td>0</td>\n",
       "      <td>0</td>\n",
       "      <td>373450</td>\n",
       "      <td>8.0500</td>\n",
       "      <td>NaN</td>\n",
       "      <td>S</td>\n",
       "      <td>1</td>\n",
       "    </tr>\n",
       "  </tbody>\n",
       "</table>\n",
       "</div>"
      ],
      "text/plain": [
       "   PassengerId  Survived  Pclass  \\\n",
       "0            1       0.0       3   \n",
       "1            2       1.0       1   \n",
       "2            3       1.0       3   \n",
       "3            4       1.0       1   \n",
       "4            5       0.0       3   \n",
       "\n",
       "                                                Name     Sex   Age  SibSp  \\\n",
       "0                            Braund, Mr. Owen Harris    male  22.0      1   \n",
       "1  Cumings, Mrs. John Bradley (Florence Briggs Th...  female  38.0      1   \n",
       "2                             Heikkinen, Miss. Laina  female  26.0      0   \n",
       "3       Futrelle, Mrs. Jacques Heath (Lily May Peel)  female  35.0      1   \n",
       "4                           Allen, Mr. William Henry    male  35.0      0   \n",
       "\n",
       "   Parch            Ticket     Fare Cabin Embarked  is_train  \n",
       "0      0         A/5 21171   7.2500   NaN        S         1  \n",
       "1      0          PC 17599  71.2833   C85        C         1  \n",
       "2      0  STON/O2. 3101282   7.9250   NaN        S         1  \n",
       "3      0            113803  53.1000  C123        S         1  \n",
       "4      0            373450   8.0500   NaN        S         1  "
      ]
     },
     "execution_count": 2,
     "metadata": {},
     "output_type": "execute_result"
    }
   ],
   "source": [
    "train_data = pd.read_csv(\"/kaggle/input/titanic/train.csv\")\n",
    "test_data = pd.read_csv(\"/kaggle/input/titanic/test.csv\")\n",
    "\n",
    "# mark training/test data\n",
    "train_data[\"is_train\"]=1 \n",
    "test_data[\"is_train\"]=0\n",
    "\n",
    "# merge training/test data to all_data\n",
    "all_data=train_data.append(test_data, ignore_index=True)\n",
    "\n",
    "all_data.head() # Pclass: 1 = 1st, 2 = 2nd, 3 = 3rd"
   ]
  },
  {
   "cell_type": "code",
   "execution_count": 3,
   "metadata": {
    "execution": {
     "iopub.execute_input": "2021-01-12T07:59:24.730297Z",
     "iopub.status.busy": "2021-01-12T07:59:24.729594Z",
     "iopub.status.idle": "2021-01-12T07:59:24.778720Z",
     "shell.execute_reply": "2021-01-12T07:59:24.777834Z"
    },
    "papermill": {
     "duration": 0.085314,
     "end_time": "2021-01-12T07:59:24.778883",
     "exception": false,
     "start_time": "2021-01-12T07:59:24.693569",
     "status": "completed"
    },
    "tags": []
   },
   "outputs": [
    {
     "name": "stdout",
     "output_type": "stream",
     "text": [
      "<class 'pandas.core.frame.DataFrame'>\n",
      "RangeIndex: 1309 entries, 0 to 1308\n",
      "Data columns (total 13 columns):\n",
      " #   Column       Non-Null Count  Dtype  \n",
      "---  ------       --------------  -----  \n",
      " 0   PassengerId  1309 non-null   int64  \n",
      " 1   Survived     891 non-null    float64\n",
      " 2   Pclass       1309 non-null   int64  \n",
      " 3   Name         1309 non-null   object \n",
      " 4   Sex          1309 non-null   object \n",
      " 5   Age          1046 non-null   float64\n",
      " 6   SibSp        1309 non-null   int64  \n",
      " 7   Parch        1309 non-null   int64  \n",
      " 8   Ticket       1309 non-null   object \n",
      " 9   Fare         1308 non-null   float64\n",
      " 10  Cabin        295 non-null    object \n",
      " 11  Embarked     1307 non-null   object \n",
      " 12  is_train     1309 non-null   int64  \n",
      "dtypes: float64(3), int64(5), object(5)\n",
      "memory usage: 133.1+ KB\n"
     ]
    },
    {
     "data": {
      "text/html": [
       "<div>\n",
       "<style scoped>\n",
       "    .dataframe tbody tr th:only-of-type {\n",
       "        vertical-align: middle;\n",
       "    }\n",
       "\n",
       "    .dataframe tbody tr th {\n",
       "        vertical-align: top;\n",
       "    }\n",
       "\n",
       "    .dataframe thead th {\n",
       "        text-align: right;\n",
       "    }\n",
       "</style>\n",
       "<table border=\"1\" class=\"dataframe\">\n",
       "  <thead>\n",
       "    <tr style=\"text-align: right;\">\n",
       "      <th></th>\n",
       "      <th>PassengerId</th>\n",
       "      <th>Survived</th>\n",
       "      <th>Pclass</th>\n",
       "      <th>Age</th>\n",
       "      <th>SibSp</th>\n",
       "      <th>Parch</th>\n",
       "      <th>Fare</th>\n",
       "      <th>is_train</th>\n",
       "    </tr>\n",
       "  </thead>\n",
       "  <tbody>\n",
       "    <tr>\n",
       "      <th>count</th>\n",
       "      <td>1309.000000</td>\n",
       "      <td>891.000000</td>\n",
       "      <td>1309.000000</td>\n",
       "      <td>1046.000000</td>\n",
       "      <td>1309.000000</td>\n",
       "      <td>1309.000000</td>\n",
       "      <td>1308.000000</td>\n",
       "      <td>1309.000000</td>\n",
       "    </tr>\n",
       "    <tr>\n",
       "      <th>mean</th>\n",
       "      <td>655.000000</td>\n",
       "      <td>0.383838</td>\n",
       "      <td>2.294882</td>\n",
       "      <td>29.881138</td>\n",
       "      <td>0.498854</td>\n",
       "      <td>0.385027</td>\n",
       "      <td>33.295479</td>\n",
       "      <td>0.680672</td>\n",
       "    </tr>\n",
       "    <tr>\n",
       "      <th>std</th>\n",
       "      <td>378.020061</td>\n",
       "      <td>0.486592</td>\n",
       "      <td>0.837836</td>\n",
       "      <td>14.413493</td>\n",
       "      <td>1.041658</td>\n",
       "      <td>0.865560</td>\n",
       "      <td>51.758668</td>\n",
       "      <td>0.466394</td>\n",
       "    </tr>\n",
       "    <tr>\n",
       "      <th>min</th>\n",
       "      <td>1.000000</td>\n",
       "      <td>0.000000</td>\n",
       "      <td>1.000000</td>\n",
       "      <td>0.170000</td>\n",
       "      <td>0.000000</td>\n",
       "      <td>0.000000</td>\n",
       "      <td>0.000000</td>\n",
       "      <td>0.000000</td>\n",
       "    </tr>\n",
       "    <tr>\n",
       "      <th>25%</th>\n",
       "      <td>328.000000</td>\n",
       "      <td>0.000000</td>\n",
       "      <td>2.000000</td>\n",
       "      <td>21.000000</td>\n",
       "      <td>0.000000</td>\n",
       "      <td>0.000000</td>\n",
       "      <td>7.895800</td>\n",
       "      <td>0.000000</td>\n",
       "    </tr>\n",
       "    <tr>\n",
       "      <th>50%</th>\n",
       "      <td>655.000000</td>\n",
       "      <td>0.000000</td>\n",
       "      <td>3.000000</td>\n",
       "      <td>28.000000</td>\n",
       "      <td>0.000000</td>\n",
       "      <td>0.000000</td>\n",
       "      <td>14.454200</td>\n",
       "      <td>1.000000</td>\n",
       "    </tr>\n",
       "    <tr>\n",
       "      <th>75%</th>\n",
       "      <td>982.000000</td>\n",
       "      <td>1.000000</td>\n",
       "      <td>3.000000</td>\n",
       "      <td>39.000000</td>\n",
       "      <td>1.000000</td>\n",
       "      <td>0.000000</td>\n",
       "      <td>31.275000</td>\n",
       "      <td>1.000000</td>\n",
       "    </tr>\n",
       "    <tr>\n",
       "      <th>max</th>\n",
       "      <td>1309.000000</td>\n",
       "      <td>1.000000</td>\n",
       "      <td>3.000000</td>\n",
       "      <td>80.000000</td>\n",
       "      <td>8.000000</td>\n",
       "      <td>9.000000</td>\n",
       "      <td>512.329200</td>\n",
       "      <td>1.000000</td>\n",
       "    </tr>\n",
       "  </tbody>\n",
       "</table>\n",
       "</div>"
      ],
      "text/plain": [
       "       PassengerId    Survived       Pclass          Age        SibSp  \\\n",
       "count  1309.000000  891.000000  1309.000000  1046.000000  1309.000000   \n",
       "mean    655.000000    0.383838     2.294882    29.881138     0.498854   \n",
       "std     378.020061    0.486592     0.837836    14.413493     1.041658   \n",
       "min       1.000000    0.000000     1.000000     0.170000     0.000000   \n",
       "25%     328.000000    0.000000     2.000000    21.000000     0.000000   \n",
       "50%     655.000000    0.000000     3.000000    28.000000     0.000000   \n",
       "75%     982.000000    1.000000     3.000000    39.000000     1.000000   \n",
       "max    1309.000000    1.000000     3.000000    80.000000     8.000000   \n",
       "\n",
       "             Parch         Fare     is_train  \n",
       "count  1309.000000  1308.000000  1309.000000  \n",
       "mean      0.385027    33.295479     0.680672  \n",
       "std       0.865560    51.758668     0.466394  \n",
       "min       0.000000     0.000000     0.000000  \n",
       "25%       0.000000     7.895800     0.000000  \n",
       "50%       0.000000    14.454200     1.000000  \n",
       "75%       0.000000    31.275000     1.000000  \n",
       "max       9.000000   512.329200     1.000000  "
      ]
     },
     "execution_count": 3,
     "metadata": {},
     "output_type": "execute_result"
    }
   ],
   "source": [
    "all_data.info()\n",
    "all_data.describe() # some missing values"
   ]
  },
  {
   "cell_type": "markdown",
   "metadata": {
    "papermill": {
     "duration": 0.034118,
     "end_time": "2021-01-12T07:59:24.848564",
     "exception": false,
     "start_time": "2021-01-12T07:59:24.814446",
     "status": "completed"
    },
    "tags": []
   },
   "source": [
    "# Data wrangling"
   ]
  },
  {
   "cell_type": "markdown",
   "metadata": {
    "papermill": {
     "duration": 0.034755,
     "end_time": "2021-01-12T07:59:24.918354",
     "exception": false,
     "start_time": "2021-01-12T07:59:24.883599",
     "status": "completed"
    },
    "tags": []
   },
   "source": [
    "## Titles"
   ]
  },
  {
   "cell_type": "markdown",
   "metadata": {
    "papermill": {
     "duration": 0.034593,
     "end_time": "2021-01-12T07:59:24.987604",
     "exception": false,
     "start_time": "2021-01-12T07:59:24.953011",
     "status": "completed"
    },
    "tags": []
   },
   "source": [
    "Extract titles of passengers from name (by grabbing the word before a [](http://)dot in name)"
   ]
  },
  {
   "cell_type": "code",
   "execution_count": 4,
   "metadata": {
    "execution": {
     "iopub.execute_input": "2021-01-12T07:59:25.065802Z",
     "iopub.status.busy": "2021-01-12T07:59:25.064907Z",
     "iopub.status.idle": "2021-01-12T07:59:25.068099Z",
     "shell.execute_reply": "2021-01-12T07:59:25.067580Z"
    },
    "papermill": {
     "duration": 0.046525,
     "end_time": "2021-01-12T07:59:25.068248",
     "exception": false,
     "start_time": "2021-01-12T07:59:25.021723",
     "status": "completed"
    },
    "tags": []
   },
   "outputs": [],
   "source": [
    "all_data[\"Title\"] = all_data.Name.str.extract(' ([A-Za-z]+)\\.', expand=False)"
   ]
  },
  {
   "cell_type": "code",
   "execution_count": 5,
   "metadata": {
    "execution": {
     "iopub.execute_input": "2021-01-12T07:59:25.150891Z",
     "iopub.status.busy": "2021-01-12T07:59:25.144454Z",
     "iopub.status.idle": "2021-01-12T07:59:25.222587Z",
     "shell.execute_reply": "2021-01-12T07:59:25.223121Z"
    },
    "papermill": {
     "duration": 0.120979,
     "end_time": "2021-01-12T07:59:25.223280",
     "exception": false,
     "start_time": "2021-01-12T07:59:25.102301",
     "status": "completed"
    },
    "tags": []
   },
   "outputs": [
    {
     "data": {
      "text/html": [
       "<div>\n",
       "<style scoped>\n",
       "    .dataframe tbody tr th:only-of-type {\n",
       "        vertical-align: middle;\n",
       "    }\n",
       "\n",
       "    .dataframe tbody tr th {\n",
       "        vertical-align: top;\n",
       "    }\n",
       "\n",
       "    .dataframe thead th {\n",
       "        text-align: right;\n",
       "    }\n",
       "</style>\n",
       "<table border=\"1\" class=\"dataframe\">\n",
       "  <thead>\n",
       "    <tr style=\"text-align: right;\">\n",
       "      <th>Sex</th>\n",
       "      <th>female</th>\n",
       "      <th>male</th>\n",
       "      <th>All</th>\n",
       "    </tr>\n",
       "    <tr>\n",
       "      <th>Title</th>\n",
       "      <th></th>\n",
       "      <th></th>\n",
       "      <th></th>\n",
       "    </tr>\n",
       "  </thead>\n",
       "  <tbody>\n",
       "    <tr>\n",
       "      <th>Capt</th>\n",
       "      <td>0</td>\n",
       "      <td>1</td>\n",
       "      <td>1</td>\n",
       "    </tr>\n",
       "    <tr>\n",
       "      <th>Col</th>\n",
       "      <td>0</td>\n",
       "      <td>4</td>\n",
       "      <td>4</td>\n",
       "    </tr>\n",
       "    <tr>\n",
       "      <th>Countess</th>\n",
       "      <td>1</td>\n",
       "      <td>0</td>\n",
       "      <td>1</td>\n",
       "    </tr>\n",
       "    <tr>\n",
       "      <th>Don</th>\n",
       "      <td>0</td>\n",
       "      <td>1</td>\n",
       "      <td>1</td>\n",
       "    </tr>\n",
       "    <tr>\n",
       "      <th>Dona</th>\n",
       "      <td>1</td>\n",
       "      <td>0</td>\n",
       "      <td>1</td>\n",
       "    </tr>\n",
       "    <tr>\n",
       "      <th>Dr</th>\n",
       "      <td>1</td>\n",
       "      <td>7</td>\n",
       "      <td>8</td>\n",
       "    </tr>\n",
       "    <tr>\n",
       "      <th>Jonkheer</th>\n",
       "      <td>0</td>\n",
       "      <td>1</td>\n",
       "      <td>1</td>\n",
       "    </tr>\n",
       "    <tr>\n",
       "      <th>Lady</th>\n",
       "      <td>1</td>\n",
       "      <td>0</td>\n",
       "      <td>1</td>\n",
       "    </tr>\n",
       "    <tr>\n",
       "      <th>Major</th>\n",
       "      <td>0</td>\n",
       "      <td>2</td>\n",
       "      <td>2</td>\n",
       "    </tr>\n",
       "    <tr>\n",
       "      <th>Master</th>\n",
       "      <td>0</td>\n",
       "      <td>61</td>\n",
       "      <td>61</td>\n",
       "    </tr>\n",
       "    <tr>\n",
       "      <th>Miss</th>\n",
       "      <td>260</td>\n",
       "      <td>0</td>\n",
       "      <td>260</td>\n",
       "    </tr>\n",
       "    <tr>\n",
       "      <th>Mlle</th>\n",
       "      <td>2</td>\n",
       "      <td>0</td>\n",
       "      <td>2</td>\n",
       "    </tr>\n",
       "    <tr>\n",
       "      <th>Mme</th>\n",
       "      <td>1</td>\n",
       "      <td>0</td>\n",
       "      <td>1</td>\n",
       "    </tr>\n",
       "    <tr>\n",
       "      <th>Mr</th>\n",
       "      <td>0</td>\n",
       "      <td>757</td>\n",
       "      <td>757</td>\n",
       "    </tr>\n",
       "    <tr>\n",
       "      <th>Mrs</th>\n",
       "      <td>197</td>\n",
       "      <td>0</td>\n",
       "      <td>197</td>\n",
       "    </tr>\n",
       "    <tr>\n",
       "      <th>Ms</th>\n",
       "      <td>2</td>\n",
       "      <td>0</td>\n",
       "      <td>2</td>\n",
       "    </tr>\n",
       "    <tr>\n",
       "      <th>Rev</th>\n",
       "      <td>0</td>\n",
       "      <td>8</td>\n",
       "      <td>8</td>\n",
       "    </tr>\n",
       "    <tr>\n",
       "      <th>Sir</th>\n",
       "      <td>0</td>\n",
       "      <td>1</td>\n",
       "      <td>1</td>\n",
       "    </tr>\n",
       "    <tr>\n",
       "      <th>All</th>\n",
       "      <td>466</td>\n",
       "      <td>843</td>\n",
       "      <td>1309</td>\n",
       "    </tr>\n",
       "  </tbody>\n",
       "</table>\n",
       "</div>"
      ],
      "text/plain": [
       "Sex       female  male   All\n",
       "Title                       \n",
       "Capt           0     1     1\n",
       "Col            0     4     4\n",
       "Countess       1     0     1\n",
       "Don            0     1     1\n",
       "Dona           1     0     1\n",
       "Dr             1     7     8\n",
       "Jonkheer       0     1     1\n",
       "Lady           1     0     1\n",
       "Major          0     2     2\n",
       "Master         0    61    61\n",
       "Miss         260     0   260\n",
       "Mlle           2     0     2\n",
       "Mme            1     0     1\n",
       "Mr             0   757   757\n",
       "Mrs          197     0   197\n",
       "Ms             2     0     2\n",
       "Rev            0     8     8\n",
       "Sir            0     1     1\n",
       "All          466   843  1309"
      ]
     },
     "execution_count": 5,
     "metadata": {},
     "output_type": "execute_result"
    }
   ],
   "source": [
    "pd.crosstab(all_data['Title'], all_data['Sex'], margins=True)"
   ]
  },
  {
   "cell_type": "markdown",
   "metadata": {
    "papermill": {
     "duration": 0.03492,
     "end_time": "2021-01-12T07:59:25.294697",
     "exception": false,
     "start_time": "2021-01-12T07:59:25.259777",
     "status": "completed"
    },
    "tags": []
   },
   "source": [
    "Simplify/group titles"
   ]
  },
  {
   "cell_type": "code",
   "execution_count": 6,
   "metadata": {
    "execution": {
     "iopub.execute_input": "2021-01-12T07:59:25.378468Z",
     "iopub.status.busy": "2021-01-12T07:59:25.374415Z",
     "iopub.status.idle": "2021-01-12T07:59:25.420998Z",
     "shell.execute_reply": "2021-01-12T07:59:25.421703Z"
    },
    "papermill": {
     "duration": 0.092222,
     "end_time": "2021-01-12T07:59:25.421870",
     "exception": false,
     "start_time": "2021-01-12T07:59:25.329648",
     "status": "completed"
    },
    "tags": []
   },
   "outputs": [
    {
     "data": {
      "text/html": [
       "<div>\n",
       "<style scoped>\n",
       "    .dataframe tbody tr th:only-of-type {\n",
       "        vertical-align: middle;\n",
       "    }\n",
       "\n",
       "    .dataframe tbody tr th {\n",
       "        vertical-align: top;\n",
       "    }\n",
       "\n",
       "    .dataframe thead th {\n",
       "        text-align: right;\n",
       "    }\n",
       "</style>\n",
       "<table border=\"1\" class=\"dataframe\">\n",
       "  <thead>\n",
       "    <tr style=\"text-align: right;\">\n",
       "      <th>Sex</th>\n",
       "      <th>female</th>\n",
       "      <th>male</th>\n",
       "      <th>All</th>\n",
       "    </tr>\n",
       "    <tr>\n",
       "      <th>Title</th>\n",
       "      <th></th>\n",
       "      <th></th>\n",
       "      <th></th>\n",
       "    </tr>\n",
       "  </thead>\n",
       "  <tbody>\n",
       "    <tr>\n",
       "      <th>Master</th>\n",
       "      <td>0</td>\n",
       "      <td>61</td>\n",
       "      <td>61</td>\n",
       "    </tr>\n",
       "    <tr>\n",
       "      <th>Miss</th>\n",
       "      <td>260</td>\n",
       "      <td>0</td>\n",
       "      <td>260</td>\n",
       "    </tr>\n",
       "    <tr>\n",
       "      <th>Mr</th>\n",
       "      <td>0</td>\n",
       "      <td>758</td>\n",
       "      <td>758</td>\n",
       "    </tr>\n",
       "    <tr>\n",
       "      <th>Mrs</th>\n",
       "      <td>202</td>\n",
       "      <td>0</td>\n",
       "      <td>202</td>\n",
       "    </tr>\n",
       "    <tr>\n",
       "      <th>Noble</th>\n",
       "      <td>3</td>\n",
       "      <td>2</td>\n",
       "      <td>5</td>\n",
       "    </tr>\n",
       "    <tr>\n",
       "      <th>Officer</th>\n",
       "      <td>0</td>\n",
       "      <td>7</td>\n",
       "      <td>7</td>\n",
       "    </tr>\n",
       "    <tr>\n",
       "      <th>Professional</th>\n",
       "      <td>1</td>\n",
       "      <td>15</td>\n",
       "      <td>16</td>\n",
       "    </tr>\n",
       "    <tr>\n",
       "      <th>All</th>\n",
       "      <td>466</td>\n",
       "      <td>843</td>\n",
       "      <td>1309</td>\n",
       "    </tr>\n",
       "  </tbody>\n",
       "</table>\n",
       "</div>"
      ],
      "text/plain": [
       "Sex           female  male   All\n",
       "Title                           \n",
       "Master             0    61    61\n",
       "Miss             260     0   260\n",
       "Mr                 0   758   758\n",
       "Mrs              202     0   202\n",
       "Noble              3     2     5\n",
       "Officer            0     7     7\n",
       "Professional       1    15    16\n",
       "All              466   843  1309"
      ]
     },
     "execution_count": 6,
     "metadata": {},
     "output_type": "execute_result"
    }
   ],
   "source": [
    "group_titles = {\n",
    "    \"Capt\": \"Officer\",\n",
    "    \"Col\": \"Officer\",\n",
    "    \"Countess\": \"Noble\",\n",
    "    \"Don\": \"Noble\",\n",
    "    \"Dona\": \"Noble\",\n",
    "    \"Dr\": \"Professional\",\n",
    "    \"Jonkheer\": \"Noble\",\n",
    "    \"Lady\": \"Noble\",\n",
    "    \"Major\": \"Officer\",\n",
    "    \"Master\": \"Master\", # younglings?\n",
    "    \"Miss\": \"Miss\",\n",
    "    \"Mlle\": \"Mrs\", # Sagesser, Mlle. Emma\tfemale\t24.0, Mayne, Mlle. Berthe Antonine (\"Mrs de Villiers\") female\t24.0\t\n",
    "    \"Mme\": \"Mrs\", # Aubart, Mme. Leontine Pauline\tfemale\t24.0\n",
    "    \"Mr\": \"Mr\",\n",
    "    \"Mrs\": \"Mrs\",\n",
    "    \"Ms\": \"Mrs\",\n",
    "    \"Rev\": \"Professional\",\n",
    "    \"Sir\": \"Mr\"\n",
    "}\n",
    "all_data.Title = all_data.Title.map(group_titles)\n",
    "pd.crosstab(all_data['Title'], all_data['Sex'], margins=True)"
   ]
  },
  {
   "cell_type": "markdown",
   "metadata": {
    "papermill": {
     "duration": 0.035396,
     "end_time": "2021-01-12T07:59:25.504056",
     "exception": false,
     "start_time": "2021-01-12T07:59:25.468660",
     "status": "completed"
    },
    "tags": []
   },
   "source": [
    "## Sex"
   ]
  },
  {
   "cell_type": "markdown",
   "metadata": {
    "papermill": {
     "duration": 0.034984,
     "end_time": "2021-01-12T07:59:25.574737",
     "exception": false,
     "start_time": "2021-01-12T07:59:25.539753",
     "status": "completed"
    },
    "tags": []
   },
   "source": [
    "Recode male/female to 0/1"
   ]
  },
  {
   "cell_type": "code",
   "execution_count": 7,
   "metadata": {
    "execution": {
     "iopub.execute_input": "2021-01-12T07:59:25.649328Z",
     "iopub.status.busy": "2021-01-12T07:59:25.648608Z",
     "iopub.status.idle": "2021-01-12T07:59:25.654104Z",
     "shell.execute_reply": "2021-01-12T07:59:25.654688Z"
    },
    "papermill": {
     "duration": 0.044416,
     "end_time": "2021-01-12T07:59:25.654836",
     "exception": false,
     "start_time": "2021-01-12T07:59:25.610420",
     "status": "completed"
    },
    "tags": []
   },
   "outputs": [],
   "source": [
    "all_data.Sex = all_data.Sex.map( {\"male\":0, \"female\":1})"
   ]
  },
  {
   "cell_type": "markdown",
   "metadata": {
    "papermill": {
     "duration": 0.035247,
     "end_time": "2021-01-12T07:59:25.726566",
     "exception": false,
     "start_time": "2021-01-12T07:59:25.691319",
     "status": "completed"
    },
    "tags": []
   },
   "source": [
    "## Cabin"
   ]
  },
  {
   "cell_type": "markdown",
   "metadata": {
    "papermill": {
     "duration": 0.035723,
     "end_time": "2021-01-12T07:59:25.799732",
     "exception": false,
     "start_time": "2021-01-12T07:59:25.764009",
     "status": "completed"
    },
    "tags": []
   },
   "source": [
    "Keep first letter in cabin name, fill missing values with U (unknown). Idea is that different Cabins corresponds to different locations in the ship and have different chance of survival."
   ]
  },
  {
   "cell_type": "code",
   "execution_count": 8,
   "metadata": {
    "execution": {
     "iopub.execute_input": "2021-01-12T07:59:25.874809Z",
     "iopub.status.busy": "2021-01-12T07:59:25.874034Z",
     "iopub.status.idle": "2021-01-12T07:59:25.930098Z",
     "shell.execute_reply": "2021-01-12T07:59:25.929439Z"
    },
    "papermill": {
     "duration": 0.09473,
     "end_time": "2021-01-12T07:59:25.930236",
     "exception": false,
     "start_time": "2021-01-12T07:59:25.835506",
     "status": "completed"
    },
    "tags": []
   },
   "outputs": [
    {
     "data": {
      "text/html": [
       "<div>\n",
       "<style scoped>\n",
       "    .dataframe tbody tr th:only-of-type {\n",
       "        vertical-align: middle;\n",
       "    }\n",
       "\n",
       "    .dataframe tbody tr th {\n",
       "        vertical-align: top;\n",
       "    }\n",
       "\n",
       "    .dataframe thead th {\n",
       "        text-align: right;\n",
       "    }\n",
       "</style>\n",
       "<table border=\"1\" class=\"dataframe\">\n",
       "  <thead>\n",
       "    <tr style=\"text-align: right;\">\n",
       "      <th>Survived</th>\n",
       "      <th>0.0</th>\n",
       "      <th>1.0</th>\n",
       "      <th>All</th>\n",
       "    </tr>\n",
       "    <tr>\n",
       "      <th>Cabin</th>\n",
       "      <th></th>\n",
       "      <th></th>\n",
       "      <th></th>\n",
       "    </tr>\n",
       "  </thead>\n",
       "  <tbody>\n",
       "    <tr>\n",
       "      <th>A10</th>\n",
       "      <td>1</td>\n",
       "      <td>0</td>\n",
       "      <td>1</td>\n",
       "    </tr>\n",
       "    <tr>\n",
       "      <th>A14</th>\n",
       "      <td>1</td>\n",
       "      <td>0</td>\n",
       "      <td>1</td>\n",
       "    </tr>\n",
       "    <tr>\n",
       "      <th>A16</th>\n",
       "      <td>0</td>\n",
       "      <td>1</td>\n",
       "      <td>1</td>\n",
       "    </tr>\n",
       "    <tr>\n",
       "      <th>A19</th>\n",
       "      <td>1</td>\n",
       "      <td>0</td>\n",
       "      <td>1</td>\n",
       "    </tr>\n",
       "    <tr>\n",
       "      <th>A20</th>\n",
       "      <td>0</td>\n",
       "      <td>1</td>\n",
       "      <td>1</td>\n",
       "    </tr>\n",
       "    <tr>\n",
       "      <th>...</th>\n",
       "      <td>...</td>\n",
       "      <td>...</td>\n",
       "      <td>...</td>\n",
       "    </tr>\n",
       "    <tr>\n",
       "      <th>F38</th>\n",
       "      <td>1</td>\n",
       "      <td>0</td>\n",
       "      <td>1</td>\n",
       "    </tr>\n",
       "    <tr>\n",
       "      <th>F4</th>\n",
       "      <td>0</td>\n",
       "      <td>2</td>\n",
       "      <td>2</td>\n",
       "    </tr>\n",
       "    <tr>\n",
       "      <th>G6</th>\n",
       "      <td>2</td>\n",
       "      <td>2</td>\n",
       "      <td>4</td>\n",
       "    </tr>\n",
       "    <tr>\n",
       "      <th>T</th>\n",
       "      <td>1</td>\n",
       "      <td>0</td>\n",
       "      <td>1</td>\n",
       "    </tr>\n",
       "    <tr>\n",
       "      <th>All</th>\n",
       "      <td>68</td>\n",
       "      <td>136</td>\n",
       "      <td>204</td>\n",
       "    </tr>\n",
       "  </tbody>\n",
       "</table>\n",
       "<p>148 rows × 3 columns</p>\n",
       "</div>"
      ],
      "text/plain": [
       "Survived  0.0  1.0  All\n",
       "Cabin                  \n",
       "A10         1    0    1\n",
       "A14         1    0    1\n",
       "A16         0    1    1\n",
       "A19         1    0    1\n",
       "A20         0    1    1\n",
       "...       ...  ...  ...\n",
       "F38         1    0    1\n",
       "F4          0    2    2\n",
       "G6          2    2    4\n",
       "T           1    0    1\n",
       "All        68  136  204\n",
       "\n",
       "[148 rows x 3 columns]"
      ]
     },
     "execution_count": 8,
     "metadata": {},
     "output_type": "execute_result"
    }
   ],
   "source": [
    "#all_data.info()\n",
    "pd.crosstab(all_data['Cabin'], all_data['Survived'], margins=True) # many in Cabin B-F seem to have survived"
   ]
  },
  {
   "cell_type": "code",
   "execution_count": 9,
   "metadata": {
    "execution": {
     "iopub.execute_input": "2021-01-12T07:59:26.011357Z",
     "iopub.status.busy": "2021-01-12T07:59:26.010340Z",
     "iopub.status.idle": "2021-01-12T07:59:26.013450Z",
     "shell.execute_reply": "2021-01-12T07:59:26.012806Z"
    },
    "papermill": {
     "duration": 0.046074,
     "end_time": "2021-01-12T07:59:26.013559",
     "exception": false,
     "start_time": "2021-01-12T07:59:25.967485",
     "status": "completed"
    },
    "tags": []
   },
   "outputs": [],
   "source": [
    "all_data.Cabin = all_data.Cabin.fillna('U').map(lambda x:x[0])"
   ]
  },
  {
   "cell_type": "markdown",
   "metadata": {
    "papermill": {
     "duration": 0.03665,
     "end_time": "2021-01-12T07:59:26.086846",
     "exception": false,
     "start_time": "2021-01-12T07:59:26.050196",
     "status": "completed"
    },
    "tags": []
   },
   "source": [
    "## Embarked"
   ]
  },
  {
   "cell_type": "markdown",
   "metadata": {
    "papermill": {
     "duration": 0.036418,
     "end_time": "2021-01-12T07:59:26.159759",
     "exception": false,
     "start_time": "2021-01-12T07:59:26.123341",
     "status": "completed"
    },
    "tags": []
   },
   "source": [
    "Fill missing value for column embarked with most common value (mode)"
   ]
  },
  {
   "cell_type": "code",
   "execution_count": 10,
   "metadata": {
    "execution": {
     "iopub.execute_input": "2021-01-12T07:59:26.241407Z",
     "iopub.status.busy": "2021-01-12T07:59:26.240756Z",
     "iopub.status.idle": "2021-01-12T07:59:26.248778Z",
     "shell.execute_reply": "2021-01-12T07:59:26.249481Z"
    },
    "papermill": {
     "duration": 0.050271,
     "end_time": "2021-01-12T07:59:26.249642",
     "exception": false,
     "start_time": "2021-01-12T07:59:26.199371",
     "status": "completed"
    },
    "tags": []
   },
   "outputs": [],
   "source": [
    "from statistics import mode\n",
    "all_data.Embarked = all_data.Embarked.fillna(mode(all_data.Embarked))"
   ]
  },
  {
   "cell_type": "markdown",
   "metadata": {
    "papermill": {
     "duration": 0.03625,
     "end_time": "2021-01-12T07:59:26.322548",
     "exception": false,
     "start_time": "2021-01-12T07:59:26.286298",
     "status": "completed"
    },
    "tags": []
   },
   "source": [
    "## Fare"
   ]
  },
  {
   "cell_type": "markdown",
   "metadata": {
    "papermill": {
     "duration": 0.036018,
     "end_time": "2021-01-12T07:59:26.395103",
     "exception": false,
     "start_time": "2021-01-12T07:59:26.359085",
     "status": "completed"
    },
    "tags": []
   },
   "source": [
    "Fill in missing values for Fare, replace values missing values with median for respective pclass and sex."
   ]
  },
  {
   "cell_type": "code",
   "execution_count": 11,
   "metadata": {
    "execution": {
     "iopub.execute_input": "2021-01-12T07:59:26.472271Z",
     "iopub.status.busy": "2021-01-12T07:59:26.471630Z",
     "iopub.status.idle": "2021-01-12T07:59:26.497294Z",
     "shell.execute_reply": "2021-01-12T07:59:26.497755Z"
    },
    "papermill": {
     "duration": 0.066155,
     "end_time": "2021-01-12T07:59:26.497910",
     "exception": false,
     "start_time": "2021-01-12T07:59:26.431755",
     "status": "completed"
    },
    "tags": []
   },
   "outputs": [
    {
     "data": {
      "text/html": [
       "<div>\n",
       "<style scoped>\n",
       "    .dataframe tbody tr th:only-of-type {\n",
       "        vertical-align: middle;\n",
       "    }\n",
       "\n",
       "    .dataframe tbody tr th {\n",
       "        vertical-align: top;\n",
       "    }\n",
       "\n",
       "    .dataframe thead th {\n",
       "        text-align: right;\n",
       "    }\n",
       "</style>\n",
       "<table border=\"1\" class=\"dataframe\">\n",
       "  <thead>\n",
       "    <tr style=\"text-align: right;\">\n",
       "      <th></th>\n",
       "      <th>PassengerId</th>\n",
       "      <th>Survived</th>\n",
       "      <th>Pclass</th>\n",
       "      <th>Name</th>\n",
       "      <th>Sex</th>\n",
       "      <th>Age</th>\n",
       "      <th>SibSp</th>\n",
       "      <th>Parch</th>\n",
       "      <th>Ticket</th>\n",
       "      <th>Fare</th>\n",
       "      <th>Cabin</th>\n",
       "      <th>Embarked</th>\n",
       "      <th>is_train</th>\n",
       "      <th>Title</th>\n",
       "    </tr>\n",
       "  </thead>\n",
       "  <tbody>\n",
       "    <tr>\n",
       "      <th>179</th>\n",
       "      <td>180</td>\n",
       "      <td>0.0</td>\n",
       "      <td>3</td>\n",
       "      <td>Leonard, Mr. Lionel</td>\n",
       "      <td>0</td>\n",
       "      <td>36.0</td>\n",
       "      <td>0</td>\n",
       "      <td>0</td>\n",
       "      <td>LINE</td>\n",
       "      <td>0.0</td>\n",
       "      <td>U</td>\n",
       "      <td>S</td>\n",
       "      <td>1</td>\n",
       "      <td>Mr</td>\n",
       "    </tr>\n",
       "    <tr>\n",
       "      <th>263</th>\n",
       "      <td>264</td>\n",
       "      <td>0.0</td>\n",
       "      <td>1</td>\n",
       "      <td>Harrison, Mr. William</td>\n",
       "      <td>0</td>\n",
       "      <td>40.0</td>\n",
       "      <td>0</td>\n",
       "      <td>0</td>\n",
       "      <td>112059</td>\n",
       "      <td>0.0</td>\n",
       "      <td>B</td>\n",
       "      <td>S</td>\n",
       "      <td>1</td>\n",
       "      <td>Mr</td>\n",
       "    </tr>\n",
       "    <tr>\n",
       "      <th>271</th>\n",
       "      <td>272</td>\n",
       "      <td>1.0</td>\n",
       "      <td>3</td>\n",
       "      <td>Tornquist, Mr. William Henry</td>\n",
       "      <td>0</td>\n",
       "      <td>25.0</td>\n",
       "      <td>0</td>\n",
       "      <td>0</td>\n",
       "      <td>LINE</td>\n",
       "      <td>0.0</td>\n",
       "      <td>U</td>\n",
       "      <td>S</td>\n",
       "      <td>1</td>\n",
       "      <td>Mr</td>\n",
       "    </tr>\n",
       "    <tr>\n",
       "      <th>277</th>\n",
       "      <td>278</td>\n",
       "      <td>0.0</td>\n",
       "      <td>2</td>\n",
       "      <td>Parkes, Mr. Francis \"Frank\"</td>\n",
       "      <td>0</td>\n",
       "      <td>NaN</td>\n",
       "      <td>0</td>\n",
       "      <td>0</td>\n",
       "      <td>239853</td>\n",
       "      <td>0.0</td>\n",
       "      <td>U</td>\n",
       "      <td>S</td>\n",
       "      <td>1</td>\n",
       "      <td>Mr</td>\n",
       "    </tr>\n",
       "    <tr>\n",
       "      <th>302</th>\n",
       "      <td>303</td>\n",
       "      <td>0.0</td>\n",
       "      <td>3</td>\n",
       "      <td>Johnson, Mr. William Cahoone Jr</td>\n",
       "      <td>0</td>\n",
       "      <td>19.0</td>\n",
       "      <td>0</td>\n",
       "      <td>0</td>\n",
       "      <td>LINE</td>\n",
       "      <td>0.0</td>\n",
       "      <td>U</td>\n",
       "      <td>S</td>\n",
       "      <td>1</td>\n",
       "      <td>Mr</td>\n",
       "    </tr>\n",
       "    <tr>\n",
       "      <th>413</th>\n",
       "      <td>414</td>\n",
       "      <td>0.0</td>\n",
       "      <td>2</td>\n",
       "      <td>Cunningham, Mr. Alfred Fleming</td>\n",
       "      <td>0</td>\n",
       "      <td>NaN</td>\n",
       "      <td>0</td>\n",
       "      <td>0</td>\n",
       "      <td>239853</td>\n",
       "      <td>0.0</td>\n",
       "      <td>U</td>\n",
       "      <td>S</td>\n",
       "      <td>1</td>\n",
       "      <td>Mr</td>\n",
       "    </tr>\n",
       "    <tr>\n",
       "      <th>466</th>\n",
       "      <td>467</td>\n",
       "      <td>0.0</td>\n",
       "      <td>2</td>\n",
       "      <td>Campbell, Mr. William</td>\n",
       "      <td>0</td>\n",
       "      <td>NaN</td>\n",
       "      <td>0</td>\n",
       "      <td>0</td>\n",
       "      <td>239853</td>\n",
       "      <td>0.0</td>\n",
       "      <td>U</td>\n",
       "      <td>S</td>\n",
       "      <td>1</td>\n",
       "      <td>Mr</td>\n",
       "    </tr>\n",
       "    <tr>\n",
       "      <th>481</th>\n",
       "      <td>482</td>\n",
       "      <td>0.0</td>\n",
       "      <td>2</td>\n",
       "      <td>Frost, Mr. Anthony Wood \"Archie\"</td>\n",
       "      <td>0</td>\n",
       "      <td>NaN</td>\n",
       "      <td>0</td>\n",
       "      <td>0</td>\n",
       "      <td>239854</td>\n",
       "      <td>0.0</td>\n",
       "      <td>U</td>\n",
       "      <td>S</td>\n",
       "      <td>1</td>\n",
       "      <td>Mr</td>\n",
       "    </tr>\n",
       "    <tr>\n",
       "      <th>597</th>\n",
       "      <td>598</td>\n",
       "      <td>0.0</td>\n",
       "      <td>3</td>\n",
       "      <td>Johnson, Mr. Alfred</td>\n",
       "      <td>0</td>\n",
       "      <td>49.0</td>\n",
       "      <td>0</td>\n",
       "      <td>0</td>\n",
       "      <td>LINE</td>\n",
       "      <td>0.0</td>\n",
       "      <td>U</td>\n",
       "      <td>S</td>\n",
       "      <td>1</td>\n",
       "      <td>Mr</td>\n",
       "    </tr>\n",
       "    <tr>\n",
       "      <th>633</th>\n",
       "      <td>634</td>\n",
       "      <td>0.0</td>\n",
       "      <td>1</td>\n",
       "      <td>Parr, Mr. William Henry Marsh</td>\n",
       "      <td>0</td>\n",
       "      <td>NaN</td>\n",
       "      <td>0</td>\n",
       "      <td>0</td>\n",
       "      <td>112052</td>\n",
       "      <td>0.0</td>\n",
       "      <td>U</td>\n",
       "      <td>S</td>\n",
       "      <td>1</td>\n",
       "      <td>Mr</td>\n",
       "    </tr>\n",
       "    <tr>\n",
       "      <th>674</th>\n",
       "      <td>675</td>\n",
       "      <td>0.0</td>\n",
       "      <td>2</td>\n",
       "      <td>Watson, Mr. Ennis Hastings</td>\n",
       "      <td>0</td>\n",
       "      <td>NaN</td>\n",
       "      <td>0</td>\n",
       "      <td>0</td>\n",
       "      <td>239856</td>\n",
       "      <td>0.0</td>\n",
       "      <td>U</td>\n",
       "      <td>S</td>\n",
       "      <td>1</td>\n",
       "      <td>Mr</td>\n",
       "    </tr>\n",
       "    <tr>\n",
       "      <th>732</th>\n",
       "      <td>733</td>\n",
       "      <td>0.0</td>\n",
       "      <td>2</td>\n",
       "      <td>Knight, Mr. Robert J</td>\n",
       "      <td>0</td>\n",
       "      <td>NaN</td>\n",
       "      <td>0</td>\n",
       "      <td>0</td>\n",
       "      <td>239855</td>\n",
       "      <td>0.0</td>\n",
       "      <td>U</td>\n",
       "      <td>S</td>\n",
       "      <td>1</td>\n",
       "      <td>Mr</td>\n",
       "    </tr>\n",
       "    <tr>\n",
       "      <th>806</th>\n",
       "      <td>807</td>\n",
       "      <td>0.0</td>\n",
       "      <td>1</td>\n",
       "      <td>Andrews, Mr. Thomas Jr</td>\n",
       "      <td>0</td>\n",
       "      <td>39.0</td>\n",
       "      <td>0</td>\n",
       "      <td>0</td>\n",
       "      <td>112050</td>\n",
       "      <td>0.0</td>\n",
       "      <td>A</td>\n",
       "      <td>S</td>\n",
       "      <td>1</td>\n",
       "      <td>Mr</td>\n",
       "    </tr>\n",
       "    <tr>\n",
       "      <th>815</th>\n",
       "      <td>816</td>\n",
       "      <td>0.0</td>\n",
       "      <td>1</td>\n",
       "      <td>Fry, Mr. Richard</td>\n",
       "      <td>0</td>\n",
       "      <td>NaN</td>\n",
       "      <td>0</td>\n",
       "      <td>0</td>\n",
       "      <td>112058</td>\n",
       "      <td>0.0</td>\n",
       "      <td>B</td>\n",
       "      <td>S</td>\n",
       "      <td>1</td>\n",
       "      <td>Mr</td>\n",
       "    </tr>\n",
       "    <tr>\n",
       "      <th>822</th>\n",
       "      <td>823</td>\n",
       "      <td>0.0</td>\n",
       "      <td>1</td>\n",
       "      <td>Reuchlin, Jonkheer. John George</td>\n",
       "      <td>0</td>\n",
       "      <td>38.0</td>\n",
       "      <td>0</td>\n",
       "      <td>0</td>\n",
       "      <td>19972</td>\n",
       "      <td>0.0</td>\n",
       "      <td>U</td>\n",
       "      <td>S</td>\n",
       "      <td>1</td>\n",
       "      <td>Noble</td>\n",
       "    </tr>\n",
       "    <tr>\n",
       "      <th>1157</th>\n",
       "      <td>1158</td>\n",
       "      <td>NaN</td>\n",
       "      <td>1</td>\n",
       "      <td>Chisholm, Mr. Roderick Robert Crispin</td>\n",
       "      <td>0</td>\n",
       "      <td>NaN</td>\n",
       "      <td>0</td>\n",
       "      <td>0</td>\n",
       "      <td>112051</td>\n",
       "      <td>0.0</td>\n",
       "      <td>U</td>\n",
       "      <td>S</td>\n",
       "      <td>0</td>\n",
       "      <td>Mr</td>\n",
       "    </tr>\n",
       "    <tr>\n",
       "      <th>1263</th>\n",
       "      <td>1264</td>\n",
       "      <td>NaN</td>\n",
       "      <td>1</td>\n",
       "      <td>Ismay, Mr. Joseph Bruce</td>\n",
       "      <td>0</td>\n",
       "      <td>49.0</td>\n",
       "      <td>0</td>\n",
       "      <td>0</td>\n",
       "      <td>112058</td>\n",
       "      <td>0.0</td>\n",
       "      <td>B</td>\n",
       "      <td>S</td>\n",
       "      <td>0</td>\n",
       "      <td>Mr</td>\n",
       "    </tr>\n",
       "  </tbody>\n",
       "</table>\n",
       "</div>"
      ],
      "text/plain": [
       "      PassengerId  Survived  Pclass                                   Name  \\\n",
       "179           180       0.0       3                    Leonard, Mr. Lionel   \n",
       "263           264       0.0       1                  Harrison, Mr. William   \n",
       "271           272       1.0       3           Tornquist, Mr. William Henry   \n",
       "277           278       0.0       2            Parkes, Mr. Francis \"Frank\"   \n",
       "302           303       0.0       3        Johnson, Mr. William Cahoone Jr   \n",
       "413           414       0.0       2         Cunningham, Mr. Alfred Fleming   \n",
       "466           467       0.0       2                  Campbell, Mr. William   \n",
       "481           482       0.0       2       Frost, Mr. Anthony Wood \"Archie\"   \n",
       "597           598       0.0       3                    Johnson, Mr. Alfred   \n",
       "633           634       0.0       1          Parr, Mr. William Henry Marsh   \n",
       "674           675       0.0       2             Watson, Mr. Ennis Hastings   \n",
       "732           733       0.0       2                   Knight, Mr. Robert J   \n",
       "806           807       0.0       1                 Andrews, Mr. Thomas Jr   \n",
       "815           816       0.0       1                       Fry, Mr. Richard   \n",
       "822           823       0.0       1        Reuchlin, Jonkheer. John George   \n",
       "1157         1158       NaN       1  Chisholm, Mr. Roderick Robert Crispin   \n",
       "1263         1264       NaN       1                Ismay, Mr. Joseph Bruce   \n",
       "\n",
       "      Sex   Age  SibSp  Parch  Ticket  Fare Cabin Embarked  is_train  Title  \n",
       "179     0  36.0      0      0    LINE   0.0     U        S         1     Mr  \n",
       "263     0  40.0      0      0  112059   0.0     B        S         1     Mr  \n",
       "271     0  25.0      0      0    LINE   0.0     U        S         1     Mr  \n",
       "277     0   NaN      0      0  239853   0.0     U        S         1     Mr  \n",
       "302     0  19.0      0      0    LINE   0.0     U        S         1     Mr  \n",
       "413     0   NaN      0      0  239853   0.0     U        S         1     Mr  \n",
       "466     0   NaN      0      0  239853   0.0     U        S         1     Mr  \n",
       "481     0   NaN      0      0  239854   0.0     U        S         1     Mr  \n",
       "597     0  49.0      0      0    LINE   0.0     U        S         1     Mr  \n",
       "633     0   NaN      0      0  112052   0.0     U        S         1     Mr  \n",
       "674     0   NaN      0      0  239856   0.0     U        S         1     Mr  \n",
       "732     0   NaN      0      0  239855   0.0     U        S         1     Mr  \n",
       "806     0  39.0      0      0  112050   0.0     A        S         1     Mr  \n",
       "815     0   NaN      0      0  112058   0.0     B        S         1     Mr  \n",
       "822     0  38.0      0      0   19972   0.0     U        S         1  Noble  \n",
       "1157    0   NaN      0      0  112051   0.0     U        S         0     Mr  \n",
       "1263    0  49.0      0      0  112058   0.0     B        S         0     Mr  "
      ]
     },
     "execution_count": 11,
     "metadata": {},
     "output_type": "execute_result"
    }
   ],
   "source": [
    "all_data.loc[all_data.Fare == 0]"
   ]
  },
  {
   "cell_type": "code",
   "execution_count": 12,
   "metadata": {
    "execution": {
     "iopub.execute_input": "2021-01-12T07:59:26.577419Z",
     "iopub.status.busy": "2021-01-12T07:59:26.576736Z",
     "iopub.status.idle": "2021-01-12T07:59:26.587416Z",
     "shell.execute_reply": "2021-01-12T07:59:26.587888Z"
    },
    "papermill": {
     "duration": 0.052067,
     "end_time": "2021-01-12T07:59:26.588049",
     "exception": false,
     "start_time": "2021-01-12T07:59:26.535982",
     "status": "completed"
    },
    "tags": []
   },
   "outputs": [],
   "source": [
    "grouped = all_data.groupby([\"Pclass\", \"Sex\"])\n",
    "\n",
    "def fFare(x):\n",
    "    c = x.median()\n",
    "    #res = x.replace(0, c) # some tickets have Fare=0 (mistake but could be free tickets? don't change), \n",
    "    #return res.fillna(c)\n",
    "    return x.fillna(c)\n",
    "\n",
    "all_data.Fare = grouped.Fare.apply(fFare)"
   ]
  },
  {
   "cell_type": "markdown",
   "metadata": {
    "papermill": {
     "duration": 0.037211,
     "end_time": "2021-01-12T07:59:26.663415",
     "exception": false,
     "start_time": "2021-01-12T07:59:26.626204",
     "status": "completed"
    },
    "tags": []
   },
   "source": [
    "## Age"
   ]
  },
  {
   "cell_type": "markdown",
   "metadata": {
    "papermill": {
     "duration": 0.03854,
     "end_time": "2021-01-12T07:59:26.740604",
     "exception": false,
     "start_time": "2021-01-12T07:59:26.702064",
     "status": "completed"
    },
    "tags": []
   },
   "source": [
    "Fill in missing values for age. By checking the mean age for the different titles we see different age distributions."
   ]
  },
  {
   "cell_type": "code",
   "execution_count": 13,
   "metadata": {
    "execution": {
     "iopub.execute_input": "2021-01-12T07:59:26.820427Z",
     "iopub.status.busy": "2021-01-12T07:59:26.819742Z",
     "iopub.status.idle": "2021-01-12T07:59:26.832997Z",
     "shell.execute_reply": "2021-01-12T07:59:26.833497Z"
    },
    "papermill": {
     "duration": 0.054929,
     "end_time": "2021-01-12T07:59:26.833647",
     "exception": false,
     "start_time": "2021-01-12T07:59:26.778718",
     "status": "completed"
    },
    "tags": []
   },
   "outputs": [
    {
     "data": {
      "text/plain": [
       "Pclass  Title       \n",
       "1       Master           6.984000\n",
       "        Miss            30.338983\n",
       "        Mr              41.507519\n",
       "        Mrs             42.385714\n",
       "        Noble           39.600000\n",
       "        Officer         54.714286\n",
       "        Professional    45.600000\n",
       "2       Master           2.757273\n",
       "        Miss            20.717083\n",
       "        Mr              32.346715\n",
       "        Mrs             33.418182\n",
       "        Professional    40.700000\n",
       "3       Master           6.090000\n",
       "        Miss            17.360874\n",
       "        Mr              28.318910\n",
       "        Mrs             32.326531\n",
       "Name: Age, dtype: float64"
      ]
     },
     "execution_count": 13,
     "metadata": {},
     "output_type": "execute_result"
    }
   ],
   "source": [
    "grouped2 = all_data.groupby([\"Pclass\", \"Title\"])\n",
    "#grouped2.Age.std()\n",
    "grouped2.Age.mean()"
   ]
  },
  {
   "cell_type": "markdown",
   "metadata": {
    "papermill": {
     "duration": 0.038833,
     "end_time": "2021-01-12T07:59:26.911440",
     "exception": false,
     "start_time": "2021-01-12T07:59:26.872607",
     "status": "completed"
    },
    "tags": []
   },
   "source": [
    " Fill in age values from by sampling a normal distribution with the same mean and sd for respective title and Pclass."
   ]
  },
  {
   "cell_type": "code",
   "execution_count": 14,
   "metadata": {
    "execution": {
     "iopub.execute_input": "2021-01-12T07:59:26.998313Z",
     "iopub.status.busy": "2021-01-12T07:59:26.996520Z",
     "iopub.status.idle": "2021-01-12T07:59:27.005643Z",
     "shell.execute_reply": "2021-01-12T07:59:27.006124Z"
    },
    "papermill": {
     "duration": 0.055246,
     "end_time": "2021-01-12T07:59:27.006302",
     "exception": false,
     "start_time": "2021-01-12T07:59:26.951056",
     "status": "completed"
    },
    "tags": []
   },
   "outputs": [],
   "source": [
    "all_data.Age = grouped2.Age.apply(lambda x: x.fillna(max(0, np.random.normal(x.mean(), x.std()))))"
   ]
  },
  {
   "cell_type": "code",
   "execution_count": 15,
   "metadata": {
    "execution": {
     "iopub.execute_input": "2021-01-12T07:59:27.090547Z",
     "iopub.status.busy": "2021-01-12T07:59:27.089741Z",
     "iopub.status.idle": "2021-01-12T07:59:27.094512Z",
     "shell.execute_reply": "2021-01-12T07:59:27.093835Z"
    },
    "papermill": {
     "duration": 0.049793,
     "end_time": "2021-01-12T07:59:27.094635",
     "exception": false,
     "start_time": "2021-01-12T07:59:27.044842",
     "status": "completed"
    },
    "tags": []
   },
   "outputs": [
    {
     "data": {
      "text/plain": [
       "1304    12.673403\n",
       "1305    39.000000\n",
       "1306    38.500000\n",
       "1307    12.673403\n",
       "1308     4.932086\n",
       "Name: Age, dtype: float64"
      ]
     },
     "execution_count": 15,
     "metadata": {},
     "output_type": "execute_result"
    }
   ],
   "source": [
    "all_data.Age.tail()"
   ]
  },
  {
   "cell_type": "markdown",
   "metadata": {
    "papermill": {
     "duration": 0.038731,
     "end_time": "2021-01-12T07:59:27.173532",
     "exception": false,
     "start_time": "2021-01-12T07:59:27.134801",
     "status": "completed"
    },
    "tags": []
   },
   "source": [
    "## Ticket"
   ]
  },
  {
   "cell_type": "markdown",
   "metadata": {
    "papermill": {
     "duration": 0.039293,
     "end_time": "2021-01-12T07:59:27.252216",
     "exception": false,
     "start_time": "2021-01-12T07:59:27.212923",
     "status": "completed"
    },
    "tags": []
   },
   "source": [
    " Ticket name (first letters) could be related to cabin class, and some Ticket names also to survival (e.g. tickets beginning with A have low chance of surviving). But this might be due to the correlation to cabin class or other. Since I don't know what the ticket names indicate (place of purchase?), skip feature. \n"
   ]
  },
  {
   "cell_type": "code",
   "execution_count": 16,
   "metadata": {
    "execution": {
     "iopub.execute_input": "2021-01-12T07:59:27.336112Z",
     "iopub.status.busy": "2021-01-12T07:59:27.335436Z",
     "iopub.status.idle": "2021-01-12T07:59:27.339393Z",
     "shell.execute_reply": "2021-01-12T07:59:27.339875Z"
    },
    "papermill": {
     "duration": 0.048267,
     "end_time": "2021-01-12T07:59:27.340025",
     "exception": false,
     "start_time": "2021-01-12T07:59:27.291758",
     "status": "completed"
    },
    "tags": []
   },
   "outputs": [
    {
     "data": {
      "text/plain": [
       "'\\ngrouped3 = all_data.groupby([\"Ticket\"])\\ndef fTicket(x):\\n    print(x)\\n    if(len(x)<20):\\n        x.loc[:] = \"OTHER\"\\n        print(x)\\n        return x\\n    else:\\n        return x\\n    \\nall_data.Ticket = grouped3.Ticket.apply(fTicket)\\npd.crosstab(all_data.Ticket, all_data[\\'Pclass\\'], margins=True)\\npd.crosstab(all_data.Ticket, all_data[\\'Survived\\'], margins=True)\\n'"
      ]
     },
     "execution_count": 16,
     "metadata": {},
     "output_type": "execute_result"
    }
   ],
   "source": [
    "'''\n",
    "grouped3 = all_data.groupby([\"Ticket\"])\n",
    "def fTicket(x):\n",
    "    print(x)\n",
    "    if(len(x)<20):\n",
    "        x.loc[:] = \"OTHER\"\n",
    "        print(x)\n",
    "        return x\n",
    "    else:\n",
    "        return x\n",
    "    \n",
    "all_data.Ticket = grouped3.Ticket.apply(fTicket)\n",
    "pd.crosstab(all_data.Ticket, all_data['Pclass'], margins=True)\n",
    "pd.crosstab(all_data.Ticket, all_data['Survived'], margins=True)\n",
    "'''"
   ]
  },
  {
   "cell_type": "code",
   "execution_count": 17,
   "metadata": {
    "execution": {
     "iopub.execute_input": "2021-01-12T07:59:27.428806Z",
     "iopub.status.busy": "2021-01-12T07:59:27.427772Z",
     "iopub.status.idle": "2021-01-12T07:59:27.431314Z",
     "shell.execute_reply": "2021-01-12T07:59:27.430371Z"
    },
    "papermill": {
     "duration": 0.049955,
     "end_time": "2021-01-12T07:59:27.431487",
     "exception": false,
     "start_time": "2021-01-12T07:59:27.381532",
     "status": "completed"
    },
    "tags": []
   },
   "outputs": [],
   "source": [
    "all_data.drop([\"Ticket\"], axis=1, inplace=True)"
   ]
  },
  {
   "cell_type": "markdown",
   "metadata": {
    "papermill": {
     "duration": 0.045148,
     "end_time": "2021-01-12T07:59:27.527904",
     "exception": false,
     "start_time": "2021-01-12T07:59:27.482756",
     "status": "completed"
    },
    "tags": []
   },
   "source": [
    "# Feature engineering"
   ]
  },
  {
   "cell_type": "markdown",
   "metadata": {
    "papermill": {
     "duration": 0.04472,
     "end_time": "2021-01-12T07:59:27.627353",
     "exception": false,
     "start_time": "2021-01-12T07:59:27.582633",
     "status": "completed"
    },
    "tags": []
   },
   "source": [
    "## Family onboard\n",
    "Create variable for family size = siblings + parents. Then create variable indicating more than 4 family members on board (large_fam), and variable indicating no family on board (solo). Idea is that solo might have less help to survive. But too large a family might not fit on the life boats. Or something opposite where someone solo can easier find a free spot on a life boat, or many family members on board might help and increase survival. Could be a factor, we include it since it can have some signal for the final models for chance of survival."
   ]
  },
  {
   "cell_type": "code",
   "execution_count": 18,
   "metadata": {
    "execution": {
     "iopub.execute_input": "2021-01-12T07:59:27.720547Z",
     "iopub.status.busy": "2021-01-12T07:59:27.719828Z",
     "iopub.status.idle": "2021-01-12T07:59:27.723432Z",
     "shell.execute_reply": "2021-01-12T07:59:27.723941Z"
    },
    "papermill": {
     "duration": 0.055843,
     "end_time": "2021-01-12T07:59:27.724105",
     "exception": false,
     "start_time": "2021-01-12T07:59:27.668262",
     "status": "completed"
    },
    "tags": []
   },
   "outputs": [],
   "source": [
    "all_data[\"fam_size\"] = all_data.SibSp + all_data.Parch\n",
    "all_data[\"solo\"] = (all_data[\"fam_size\"] == 0)*1\n",
    "all_data[\"large_fam\"] = (all_data[\"fam_size\"] >= 4)*1\n",
    "\n",
    "all_data.drop([\"SibSp\", \"Parch\"], axis=1, inplace=True)"
   ]
  },
  {
   "cell_type": "markdown",
   "metadata": {
    "papermill": {
     "duration": 0.039706,
     "end_time": "2021-01-12T07:59:27.804230",
     "exception": false,
     "start_time": "2021-01-12T07:59:27.764524",
     "status": "completed"
    },
    "tags": []
   },
   "source": [
    "## One-hot encoding of categorical variables"
   ]
  },
  {
   "cell_type": "code",
   "execution_count": 19,
   "metadata": {
    "execution": {
     "iopub.execute_input": "2021-01-12T07:59:27.887649Z",
     "iopub.status.busy": "2021-01-12T07:59:27.887009Z",
     "iopub.status.idle": "2021-01-12T07:59:27.902668Z",
     "shell.execute_reply": "2021-01-12T07:59:27.903241Z"
    },
    "papermill": {
     "duration": 0.059145,
     "end_time": "2021-01-12T07:59:27.903483",
     "exception": false,
     "start_time": "2021-01-12T07:59:27.844338",
     "status": "completed"
    },
    "tags": []
   },
   "outputs": [
    {
     "data": {
      "text/html": [
       "<div>\n",
       "<style scoped>\n",
       "    .dataframe tbody tr th:only-of-type {\n",
       "        vertical-align: middle;\n",
       "    }\n",
       "\n",
       "    .dataframe tbody tr th {\n",
       "        vertical-align: top;\n",
       "    }\n",
       "\n",
       "    .dataframe thead th {\n",
       "        text-align: right;\n",
       "    }\n",
       "</style>\n",
       "<table border=\"1\" class=\"dataframe\">\n",
       "  <thead>\n",
       "    <tr style=\"text-align: right;\">\n",
       "      <th></th>\n",
       "      <th>Pclass</th>\n",
       "      <th>Cabin</th>\n",
       "      <th>Embarked</th>\n",
       "      <th>Title</th>\n",
       "    </tr>\n",
       "  </thead>\n",
       "  <tbody>\n",
       "    <tr>\n",
       "      <th>0</th>\n",
       "      <td>3</td>\n",
       "      <td>U</td>\n",
       "      <td>S</td>\n",
       "      <td>Mr</td>\n",
       "    </tr>\n",
       "    <tr>\n",
       "      <th>1</th>\n",
       "      <td>1</td>\n",
       "      <td>C</td>\n",
       "      <td>C</td>\n",
       "      <td>Mrs</td>\n",
       "    </tr>\n",
       "    <tr>\n",
       "      <th>2</th>\n",
       "      <td>3</td>\n",
       "      <td>U</td>\n",
       "      <td>S</td>\n",
       "      <td>Miss</td>\n",
       "    </tr>\n",
       "    <tr>\n",
       "      <th>3</th>\n",
       "      <td>1</td>\n",
       "      <td>C</td>\n",
       "      <td>S</td>\n",
       "      <td>Mrs</td>\n",
       "    </tr>\n",
       "    <tr>\n",
       "      <th>4</th>\n",
       "      <td>3</td>\n",
       "      <td>U</td>\n",
       "      <td>S</td>\n",
       "      <td>Mr</td>\n",
       "    </tr>\n",
       "    <tr>\n",
       "      <th>...</th>\n",
       "      <td>...</td>\n",
       "      <td>...</td>\n",
       "      <td>...</td>\n",
       "      <td>...</td>\n",
       "    </tr>\n",
       "    <tr>\n",
       "      <th>1304</th>\n",
       "      <td>3</td>\n",
       "      <td>U</td>\n",
       "      <td>S</td>\n",
       "      <td>Mr</td>\n",
       "    </tr>\n",
       "    <tr>\n",
       "      <th>1305</th>\n",
       "      <td>1</td>\n",
       "      <td>C</td>\n",
       "      <td>C</td>\n",
       "      <td>Noble</td>\n",
       "    </tr>\n",
       "    <tr>\n",
       "      <th>1306</th>\n",
       "      <td>3</td>\n",
       "      <td>U</td>\n",
       "      <td>S</td>\n",
       "      <td>Mr</td>\n",
       "    </tr>\n",
       "    <tr>\n",
       "      <th>1307</th>\n",
       "      <td>3</td>\n",
       "      <td>U</td>\n",
       "      <td>S</td>\n",
       "      <td>Mr</td>\n",
       "    </tr>\n",
       "    <tr>\n",
       "      <th>1308</th>\n",
       "      <td>3</td>\n",
       "      <td>U</td>\n",
       "      <td>C</td>\n",
       "      <td>Master</td>\n",
       "    </tr>\n",
       "  </tbody>\n",
       "</table>\n",
       "<p>1309 rows × 4 columns</p>\n",
       "</div>"
      ],
      "text/plain": [
       "      Pclass Cabin Embarked   Title\n",
       "0          3     U        S      Mr\n",
       "1          1     C        C     Mrs\n",
       "2          3     U        S    Miss\n",
       "3          1     C        S     Mrs\n",
       "4          3     U        S      Mr\n",
       "...      ...   ...      ...     ...\n",
       "1304       3     U        S      Mr\n",
       "1305       1     C        C   Noble\n",
       "1306       3     U        S      Mr\n",
       "1307       3     U        S      Mr\n",
       "1308       3     U        C  Master\n",
       "\n",
       "[1309 rows x 4 columns]"
      ]
     },
     "execution_count": 19,
     "metadata": {},
     "output_type": "execute_result"
    }
   ],
   "source": [
    "dummc = [\"Pclass\", \"Cabin\", \"Embarked\", \"Title\"]\n",
    "#dummc = [\"Title\"]\n",
    "all_data[dummc]"
   ]
  },
  {
   "cell_type": "code",
   "execution_count": 20,
   "metadata": {
    "execution": {
     "iopub.execute_input": "2021-01-12T07:59:27.997511Z",
     "iopub.status.busy": "2021-01-12T07:59:27.996785Z",
     "iopub.status.idle": "2021-01-12T07:59:28.006013Z",
     "shell.execute_reply": "2021-01-12T07:59:28.006654Z"
    },
    "papermill": {
     "duration": 0.060946,
     "end_time": "2021-01-12T07:59:28.006837",
     "exception": false,
     "start_time": "2021-01-12T07:59:27.945891",
     "status": "completed"
    },
    "tags": []
   },
   "outputs": [],
   "source": [
    "\n",
    "dummy = pd.get_dummies(all_data[dummc], columns=dummc, drop_first=False)\n",
    "all_data = pd.concat([all_data, dummy], axis=1) # add new columns\n",
    "all_data.drop(dummc, axis=1, inplace=True) # remove old columns\n"
   ]
  },
  {
   "cell_type": "code",
   "execution_count": 21,
   "metadata": {
    "execution": {
     "iopub.execute_input": "2021-01-12T07:59:28.093070Z",
     "iopub.status.busy": "2021-01-12T07:59:28.092408Z",
     "iopub.status.idle": "2021-01-12T07:59:28.097537Z",
     "shell.execute_reply": "2021-01-12T07:59:28.098281Z"
    },
    "papermill": {
     "duration": 0.050655,
     "end_time": "2021-01-12T07:59:28.098431",
     "exception": false,
     "start_time": "2021-01-12T07:59:28.047776",
     "status": "completed"
    },
    "tags": []
   },
   "outputs": [],
   "source": [
    "all_data.drop([\"Name\"], axis=1, inplace=True) # Drop name column, not needed"
   ]
  },
  {
   "cell_type": "code",
   "execution_count": 22,
   "metadata": {
    "execution": {
     "iopub.execute_input": "2021-01-12T07:59:28.184352Z",
     "iopub.status.busy": "2021-01-12T07:59:28.183651Z",
     "iopub.status.idle": "2021-01-12T07:59:28.200985Z",
     "shell.execute_reply": "2021-01-12T07:59:28.200053Z"
    },
    "papermill": {
     "duration": 0.061691,
     "end_time": "2021-01-12T07:59:28.201339",
     "exception": false,
     "start_time": "2021-01-12T07:59:28.139648",
     "status": "completed"
    },
    "tags": []
   },
   "outputs": [
    {
     "name": "stdout",
     "output_type": "stream",
     "text": [
      "<class 'pandas.core.frame.DataFrame'>\n",
      "RangeIndex: 1309 entries, 0 to 1308\n",
      "Data columns (total 31 columns):\n",
      " #   Column              Non-Null Count  Dtype  \n",
      "---  ------              --------------  -----  \n",
      " 0   PassengerId         1309 non-null   int64  \n",
      " 1   Survived            891 non-null    float64\n",
      " 2   Sex                 1309 non-null   int64  \n",
      " 3   Age                 1309 non-null   float64\n",
      " 4   Fare                1309 non-null   float64\n",
      " 5   is_train            1309 non-null   int64  \n",
      " 6   fam_size            1309 non-null   int64  \n",
      " 7   solo                1309 non-null   int64  \n",
      " 8   large_fam           1309 non-null   int64  \n",
      " 9   Pclass_1            1309 non-null   uint8  \n",
      " 10  Pclass_2            1309 non-null   uint8  \n",
      " 11  Pclass_3            1309 non-null   uint8  \n",
      " 12  Cabin_A             1309 non-null   uint8  \n",
      " 13  Cabin_B             1309 non-null   uint8  \n",
      " 14  Cabin_C             1309 non-null   uint8  \n",
      " 15  Cabin_D             1309 non-null   uint8  \n",
      " 16  Cabin_E             1309 non-null   uint8  \n",
      " 17  Cabin_F             1309 non-null   uint8  \n",
      " 18  Cabin_G             1309 non-null   uint8  \n",
      " 19  Cabin_T             1309 non-null   uint8  \n",
      " 20  Cabin_U             1309 non-null   uint8  \n",
      " 21  Embarked_C          1309 non-null   uint8  \n",
      " 22  Embarked_Q          1309 non-null   uint8  \n",
      " 23  Embarked_S          1309 non-null   uint8  \n",
      " 24  Title_Master        1309 non-null   uint8  \n",
      " 25  Title_Miss          1309 non-null   uint8  \n",
      " 26  Title_Mr            1309 non-null   uint8  \n",
      " 27  Title_Mrs           1309 non-null   uint8  \n",
      " 28  Title_Noble         1309 non-null   uint8  \n",
      " 29  Title_Officer       1309 non-null   uint8  \n",
      " 30  Title_Professional  1309 non-null   uint8  \n",
      "dtypes: float64(3), int64(6), uint8(22)\n",
      "memory usage: 120.3 KB\n"
     ]
    }
   ],
   "source": [
    "all_data.info() # Now we have no missing data, except for 'Survived' which is what we want to predict in the test data."
   ]
  },
  {
   "cell_type": "markdown",
   "metadata": {
    "papermill": {
     "duration": 0.042711,
     "end_time": "2021-01-12T07:59:28.286680",
     "exception": false,
     "start_time": "2021-01-12T07:59:28.243969",
     "status": "completed"
    },
    "tags": []
   },
   "source": [
    "# Create models"
   ]
  },
  {
   "cell_type": "markdown",
   "metadata": {
    "papermill": {
     "duration": 0.040953,
     "end_time": "2021-01-12T07:59:28.368908",
     "exception": false,
     "start_time": "2021-01-12T07:59:28.327955",
     "status": "completed"
    },
    "tags": []
   },
   "source": [
    "## Extract training/test data"
   ]
  },
  {
   "cell_type": "code",
   "execution_count": 23,
   "metadata": {
    "execution": {
     "iopub.execute_input": "2021-01-12T07:59:28.461734Z",
     "iopub.status.busy": "2021-01-12T07:59:28.461031Z",
     "iopub.status.idle": "2021-01-12T07:59:28.466690Z",
     "shell.execute_reply": "2021-01-12T07:59:28.466032Z"
    },
    "papermill": {
     "duration": 0.056528,
     "end_time": "2021-01-12T07:59:28.466820",
     "exception": false,
     "start_time": "2021-01-12T07:59:28.410292",
     "status": "completed"
    },
    "tags": []
   },
   "outputs": [],
   "source": [
    "train_rows = all_data[\"is_train\"] == 1\n",
    "\n",
    "all_data_X = all_data.drop([\"is_train\", \"PassengerId\", \"Survived\"], axis=1)\n",
    "all_data_Y = all_data[\"Survived\"]\n",
    "\n",
    "train_X = all_data_X[train_rows ]\n",
    "test_X = all_data_X[ train_rows == 0 ]\n",
    "test_pid = all_data.PassengerId[ train_rows == 0 ]\n",
    "\n",
    "train_Y = all_data_Y[train_rows]"
   ]
  },
  {
   "cell_type": "code",
   "execution_count": 24,
   "metadata": {
    "execution": {
     "iopub.execute_input": "2021-01-12T07:59:28.572597Z",
     "iopub.status.busy": "2021-01-12T07:59:28.571916Z",
     "iopub.status.idle": "2021-01-12T07:59:28.575810Z",
     "shell.execute_reply": "2021-01-12T07:59:28.576349Z"
    },
    "papermill": {
     "duration": 0.067633,
     "end_time": "2021-01-12T07:59:28.576492",
     "exception": false,
     "start_time": "2021-01-12T07:59:28.508859",
     "status": "completed"
    },
    "tags": []
   },
   "outputs": [
    {
     "data": {
      "text/html": [
       "<div>\n",
       "<style scoped>\n",
       "    .dataframe tbody tr th:only-of-type {\n",
       "        vertical-align: middle;\n",
       "    }\n",
       "\n",
       "    .dataframe tbody tr th {\n",
       "        vertical-align: top;\n",
       "    }\n",
       "\n",
       "    .dataframe thead th {\n",
       "        text-align: right;\n",
       "    }\n",
       "</style>\n",
       "<table border=\"1\" class=\"dataframe\">\n",
       "  <thead>\n",
       "    <tr style=\"text-align: right;\">\n",
       "      <th></th>\n",
       "      <th>Sex</th>\n",
       "      <th>Age</th>\n",
       "      <th>Fare</th>\n",
       "      <th>fam_size</th>\n",
       "      <th>solo</th>\n",
       "      <th>large_fam</th>\n",
       "      <th>Pclass_1</th>\n",
       "      <th>Pclass_2</th>\n",
       "      <th>Pclass_3</th>\n",
       "      <th>Cabin_A</th>\n",
       "      <th>...</th>\n",
       "      <th>Embarked_C</th>\n",
       "      <th>Embarked_Q</th>\n",
       "      <th>Embarked_S</th>\n",
       "      <th>Title_Master</th>\n",
       "      <th>Title_Miss</th>\n",
       "      <th>Title_Mr</th>\n",
       "      <th>Title_Mrs</th>\n",
       "      <th>Title_Noble</th>\n",
       "      <th>Title_Officer</th>\n",
       "      <th>Title_Professional</th>\n",
       "    </tr>\n",
       "  </thead>\n",
       "  <tbody>\n",
       "    <tr>\n",
       "      <th>0</th>\n",
       "      <td>0</td>\n",
       "      <td>22.0</td>\n",
       "      <td>7.2500</td>\n",
       "      <td>1</td>\n",
       "      <td>0</td>\n",
       "      <td>0</td>\n",
       "      <td>0</td>\n",
       "      <td>0</td>\n",
       "      <td>1</td>\n",
       "      <td>0</td>\n",
       "      <td>...</td>\n",
       "      <td>0</td>\n",
       "      <td>0</td>\n",
       "      <td>1</td>\n",
       "      <td>0</td>\n",
       "      <td>0</td>\n",
       "      <td>1</td>\n",
       "      <td>0</td>\n",
       "      <td>0</td>\n",
       "      <td>0</td>\n",
       "      <td>0</td>\n",
       "    </tr>\n",
       "    <tr>\n",
       "      <th>1</th>\n",
       "      <td>1</td>\n",
       "      <td>38.0</td>\n",
       "      <td>71.2833</td>\n",
       "      <td>1</td>\n",
       "      <td>0</td>\n",
       "      <td>0</td>\n",
       "      <td>1</td>\n",
       "      <td>0</td>\n",
       "      <td>0</td>\n",
       "      <td>0</td>\n",
       "      <td>...</td>\n",
       "      <td>1</td>\n",
       "      <td>0</td>\n",
       "      <td>0</td>\n",
       "      <td>0</td>\n",
       "      <td>0</td>\n",
       "      <td>0</td>\n",
       "      <td>1</td>\n",
       "      <td>0</td>\n",
       "      <td>0</td>\n",
       "      <td>0</td>\n",
       "    </tr>\n",
       "    <tr>\n",
       "      <th>2</th>\n",
       "      <td>1</td>\n",
       "      <td>26.0</td>\n",
       "      <td>7.9250</td>\n",
       "      <td>0</td>\n",
       "      <td>1</td>\n",
       "      <td>0</td>\n",
       "      <td>0</td>\n",
       "      <td>0</td>\n",
       "      <td>1</td>\n",
       "      <td>0</td>\n",
       "      <td>...</td>\n",
       "      <td>0</td>\n",
       "      <td>0</td>\n",
       "      <td>1</td>\n",
       "      <td>0</td>\n",
       "      <td>1</td>\n",
       "      <td>0</td>\n",
       "      <td>0</td>\n",
       "      <td>0</td>\n",
       "      <td>0</td>\n",
       "      <td>0</td>\n",
       "    </tr>\n",
       "    <tr>\n",
       "      <th>3</th>\n",
       "      <td>1</td>\n",
       "      <td>35.0</td>\n",
       "      <td>53.1000</td>\n",
       "      <td>1</td>\n",
       "      <td>0</td>\n",
       "      <td>0</td>\n",
       "      <td>1</td>\n",
       "      <td>0</td>\n",
       "      <td>0</td>\n",
       "      <td>0</td>\n",
       "      <td>...</td>\n",
       "      <td>0</td>\n",
       "      <td>0</td>\n",
       "      <td>1</td>\n",
       "      <td>0</td>\n",
       "      <td>0</td>\n",
       "      <td>0</td>\n",
       "      <td>1</td>\n",
       "      <td>0</td>\n",
       "      <td>0</td>\n",
       "      <td>0</td>\n",
       "    </tr>\n",
       "    <tr>\n",
       "      <th>4</th>\n",
       "      <td>0</td>\n",
       "      <td>35.0</td>\n",
       "      <td>8.0500</td>\n",
       "      <td>0</td>\n",
       "      <td>1</td>\n",
       "      <td>0</td>\n",
       "      <td>0</td>\n",
       "      <td>0</td>\n",
       "      <td>1</td>\n",
       "      <td>0</td>\n",
       "      <td>...</td>\n",
       "      <td>0</td>\n",
       "      <td>0</td>\n",
       "      <td>1</td>\n",
       "      <td>0</td>\n",
       "      <td>0</td>\n",
       "      <td>1</td>\n",
       "      <td>0</td>\n",
       "      <td>0</td>\n",
       "      <td>0</td>\n",
       "      <td>0</td>\n",
       "    </tr>\n",
       "  </tbody>\n",
       "</table>\n",
       "<p>5 rows × 28 columns</p>\n",
       "</div>"
      ],
      "text/plain": [
       "   Sex   Age     Fare  fam_size  solo  large_fam  Pclass_1  Pclass_2  \\\n",
       "0    0  22.0   7.2500         1     0          0         0         0   \n",
       "1    1  38.0  71.2833         1     0          0         1         0   \n",
       "2    1  26.0   7.9250         0     1          0         0         0   \n",
       "3    1  35.0  53.1000         1     0          0         1         0   \n",
       "4    0  35.0   8.0500         0     1          0         0         0   \n",
       "\n",
       "   Pclass_3  Cabin_A  ...  Embarked_C  Embarked_Q  Embarked_S  Title_Master  \\\n",
       "0         1        0  ...           0           0           1             0   \n",
       "1         0        0  ...           1           0           0             0   \n",
       "2         1        0  ...           0           0           1             0   \n",
       "3         0        0  ...           0           0           1             0   \n",
       "4         1        0  ...           0           0           1             0   \n",
       "\n",
       "   Title_Miss  Title_Mr  Title_Mrs  Title_Noble  Title_Officer  \\\n",
       "0           0         1          0            0              0   \n",
       "1           0         0          1            0              0   \n",
       "2           1         0          0            0              0   \n",
       "3           0         0          1            0              0   \n",
       "4           0         1          0            0              0   \n",
       "\n",
       "   Title_Professional  \n",
       "0                   0  \n",
       "1                   0  \n",
       "2                   0  \n",
       "3                   0  \n",
       "4                   0  \n",
       "\n",
       "[5 rows x 28 columns]"
      ]
     },
     "execution_count": 24,
     "metadata": {},
     "output_type": "execute_result"
    }
   ],
   "source": [
    "train_X.head()"
   ]
  },
  {
   "cell_type": "code",
   "execution_count": 25,
   "metadata": {
    "execution": {
     "iopub.execute_input": "2021-01-12T07:59:28.667816Z",
     "iopub.status.busy": "2021-01-12T07:59:28.667069Z",
     "iopub.status.idle": "2021-01-12T07:59:28.686541Z",
     "shell.execute_reply": "2021-01-12T07:59:28.685736Z"
    },
    "papermill": {
     "duration": 0.06745,
     "end_time": "2021-01-12T07:59:28.686686",
     "exception": false,
     "start_time": "2021-01-12T07:59:28.619236",
     "status": "completed"
    },
    "tags": []
   },
   "outputs": [
    {
     "data": {
      "text/html": [
       "<div>\n",
       "<style scoped>\n",
       "    .dataframe tbody tr th:only-of-type {\n",
       "        vertical-align: middle;\n",
       "    }\n",
       "\n",
       "    .dataframe tbody tr th {\n",
       "        vertical-align: top;\n",
       "    }\n",
       "\n",
       "    .dataframe thead th {\n",
       "        text-align: right;\n",
       "    }\n",
       "</style>\n",
       "<table border=\"1\" class=\"dataframe\">\n",
       "  <thead>\n",
       "    <tr style=\"text-align: right;\">\n",
       "      <th></th>\n",
       "      <th>Sex</th>\n",
       "      <th>Age</th>\n",
       "      <th>Fare</th>\n",
       "      <th>fam_size</th>\n",
       "      <th>solo</th>\n",
       "      <th>large_fam</th>\n",
       "      <th>Pclass_1</th>\n",
       "      <th>Pclass_2</th>\n",
       "      <th>Pclass_3</th>\n",
       "      <th>Cabin_A</th>\n",
       "      <th>...</th>\n",
       "      <th>Embarked_C</th>\n",
       "      <th>Embarked_Q</th>\n",
       "      <th>Embarked_S</th>\n",
       "      <th>Title_Master</th>\n",
       "      <th>Title_Miss</th>\n",
       "      <th>Title_Mr</th>\n",
       "      <th>Title_Mrs</th>\n",
       "      <th>Title_Noble</th>\n",
       "      <th>Title_Officer</th>\n",
       "      <th>Title_Professional</th>\n",
       "    </tr>\n",
       "  </thead>\n",
       "  <tbody>\n",
       "    <tr>\n",
       "      <th>891</th>\n",
       "      <td>0</td>\n",
       "      <td>34.5</td>\n",
       "      <td>7.8292</td>\n",
       "      <td>0</td>\n",
       "      <td>1</td>\n",
       "      <td>0</td>\n",
       "      <td>0</td>\n",
       "      <td>0</td>\n",
       "      <td>1</td>\n",
       "      <td>0</td>\n",
       "      <td>...</td>\n",
       "      <td>0</td>\n",
       "      <td>1</td>\n",
       "      <td>0</td>\n",
       "      <td>0</td>\n",
       "      <td>0</td>\n",
       "      <td>1</td>\n",
       "      <td>0</td>\n",
       "      <td>0</td>\n",
       "      <td>0</td>\n",
       "      <td>0</td>\n",
       "    </tr>\n",
       "    <tr>\n",
       "      <th>892</th>\n",
       "      <td>1</td>\n",
       "      <td>47.0</td>\n",
       "      <td>7.0000</td>\n",
       "      <td>1</td>\n",
       "      <td>0</td>\n",
       "      <td>0</td>\n",
       "      <td>0</td>\n",
       "      <td>0</td>\n",
       "      <td>1</td>\n",
       "      <td>0</td>\n",
       "      <td>...</td>\n",
       "      <td>0</td>\n",
       "      <td>0</td>\n",
       "      <td>1</td>\n",
       "      <td>0</td>\n",
       "      <td>0</td>\n",
       "      <td>0</td>\n",
       "      <td>1</td>\n",
       "      <td>0</td>\n",
       "      <td>0</td>\n",
       "      <td>0</td>\n",
       "    </tr>\n",
       "    <tr>\n",
       "      <th>893</th>\n",
       "      <td>0</td>\n",
       "      <td>62.0</td>\n",
       "      <td>9.6875</td>\n",
       "      <td>0</td>\n",
       "      <td>1</td>\n",
       "      <td>0</td>\n",
       "      <td>0</td>\n",
       "      <td>1</td>\n",
       "      <td>0</td>\n",
       "      <td>0</td>\n",
       "      <td>...</td>\n",
       "      <td>0</td>\n",
       "      <td>1</td>\n",
       "      <td>0</td>\n",
       "      <td>0</td>\n",
       "      <td>0</td>\n",
       "      <td>1</td>\n",
       "      <td>0</td>\n",
       "      <td>0</td>\n",
       "      <td>0</td>\n",
       "      <td>0</td>\n",
       "    </tr>\n",
       "    <tr>\n",
       "      <th>894</th>\n",
       "      <td>0</td>\n",
       "      <td>27.0</td>\n",
       "      <td>8.6625</td>\n",
       "      <td>0</td>\n",
       "      <td>1</td>\n",
       "      <td>0</td>\n",
       "      <td>0</td>\n",
       "      <td>0</td>\n",
       "      <td>1</td>\n",
       "      <td>0</td>\n",
       "      <td>...</td>\n",
       "      <td>0</td>\n",
       "      <td>0</td>\n",
       "      <td>1</td>\n",
       "      <td>0</td>\n",
       "      <td>0</td>\n",
       "      <td>1</td>\n",
       "      <td>0</td>\n",
       "      <td>0</td>\n",
       "      <td>0</td>\n",
       "      <td>0</td>\n",
       "    </tr>\n",
       "    <tr>\n",
       "      <th>895</th>\n",
       "      <td>1</td>\n",
       "      <td>22.0</td>\n",
       "      <td>12.2875</td>\n",
       "      <td>2</td>\n",
       "      <td>0</td>\n",
       "      <td>0</td>\n",
       "      <td>0</td>\n",
       "      <td>0</td>\n",
       "      <td>1</td>\n",
       "      <td>0</td>\n",
       "      <td>...</td>\n",
       "      <td>0</td>\n",
       "      <td>0</td>\n",
       "      <td>1</td>\n",
       "      <td>0</td>\n",
       "      <td>0</td>\n",
       "      <td>0</td>\n",
       "      <td>1</td>\n",
       "      <td>0</td>\n",
       "      <td>0</td>\n",
       "      <td>0</td>\n",
       "    </tr>\n",
       "  </tbody>\n",
       "</table>\n",
       "<p>5 rows × 28 columns</p>\n",
       "</div>"
      ],
      "text/plain": [
       "     Sex   Age     Fare  fam_size  solo  large_fam  Pclass_1  Pclass_2  \\\n",
       "891    0  34.5   7.8292         0     1          0         0         0   \n",
       "892    1  47.0   7.0000         1     0          0         0         0   \n",
       "893    0  62.0   9.6875         0     1          0         0         1   \n",
       "894    0  27.0   8.6625         0     1          0         0         0   \n",
       "895    1  22.0  12.2875         2     0          0         0         0   \n",
       "\n",
       "     Pclass_3  Cabin_A  ...  Embarked_C  Embarked_Q  Embarked_S  Title_Master  \\\n",
       "891         1        0  ...           0           1           0             0   \n",
       "892         1        0  ...           0           0           1             0   \n",
       "893         0        0  ...           0           1           0             0   \n",
       "894         1        0  ...           0           0           1             0   \n",
       "895         1        0  ...           0           0           1             0   \n",
       "\n",
       "     Title_Miss  Title_Mr  Title_Mrs  Title_Noble  Title_Officer  \\\n",
       "891           0         1          0            0              0   \n",
       "892           0         0          1            0              0   \n",
       "893           0         1          0            0              0   \n",
       "894           0         1          0            0              0   \n",
       "895           0         0          1            0              0   \n",
       "\n",
       "     Title_Professional  \n",
       "891                   0  \n",
       "892                   0  \n",
       "893                   0  \n",
       "894                   0  \n",
       "895                   0  \n",
       "\n",
       "[5 rows x 28 columns]"
      ]
     },
     "execution_count": 25,
     "metadata": {},
     "output_type": "execute_result"
    }
   ],
   "source": [
    "test_X.head()"
   ]
  },
  {
   "cell_type": "markdown",
   "metadata": {
    "papermill": {
     "duration": 0.04345,
     "end_time": "2021-01-12T07:59:28.773738",
     "exception": false,
     "start_time": "2021-01-12T07:59:28.730288",
     "status": "completed"
    },
    "tags": []
   },
   "source": [
    "## Random Forest Classifier"
   ]
  },
  {
   "cell_type": "code",
   "execution_count": 26,
   "metadata": {
    "execution": {
     "iopub.execute_input": "2021-01-12T07:59:28.868680Z",
     "iopub.status.busy": "2021-01-12T07:59:28.867742Z",
     "iopub.status.idle": "2021-01-12T07:59:30.688154Z",
     "shell.execute_reply": "2021-01-12T07:59:30.687603Z"
    },
    "papermill": {
     "duration": 1.87052,
     "end_time": "2021-01-12T07:59:30.688280",
     "exception": false,
     "start_time": "2021-01-12T07:59:28.817760",
     "status": "completed"
    },
    "tags": []
   },
   "outputs": [
    {
     "name": "stdout",
     "output_type": "stream",
     "text": [
      "Accuracy: 0.8035914702581369\n"
     ]
    }
   ],
   "source": [
    "from sklearn.ensemble import RandomForestClassifier\n",
    "\n",
    "rfcl = RandomForestClassifier(n_estimators=200, max_features=3, max_depth=2)\n",
    "rfcl.fit(train_X,train_Y)\n",
    "\n",
    "def f_rfcl(x): return rfcl.predict(x).astype(int)\n",
    "\n",
    "print(\"Accuracy:\", (train_Y == f_rfcl(train_X)).mean())\n"
   ]
  },
  {
   "cell_type": "markdown",
   "metadata": {
    "papermill": {
     "duration": 0.043645,
     "end_time": "2021-01-12T07:59:30.775959",
     "exception": false,
     "start_time": "2021-01-12T07:59:30.732314",
     "status": "completed"
    },
    "tags": []
   },
   "source": [
    "## XGBoost"
   ]
  },
  {
   "cell_type": "code",
   "execution_count": 27,
   "metadata": {
    "execution": {
     "iopub.execute_input": "2021-01-12T07:59:30.872322Z",
     "iopub.status.busy": "2021-01-12T07:59:30.871395Z",
     "iopub.status.idle": "2021-01-12T07:59:31.963647Z",
     "shell.execute_reply": "2021-01-12T07:59:31.964515Z"
    },
    "papermill": {
     "duration": 1.143941,
     "end_time": "2021-01-12T07:59:31.964700",
     "exception": false,
     "start_time": "2021-01-12T07:59:30.820759",
     "status": "completed"
    },
    "tags": []
   },
   "outputs": [
    {
     "name": "stdout",
     "output_type": "stream",
     "text": [
      "Accuracy: 0.8226711560044894\n"
     ]
    }
   ],
   "source": [
    "from xgboost import XGBClassifier\n",
    "from sklearn.model_selection import GridSearchCV\n",
    "\n",
    "\n",
    "xgb_model = XGBClassifier(max_depth=1, verbosity=1, n_estimators=20)\n",
    "xgb_model.fit(train_X,train_Y)\n",
    "\n",
    "def f_xgb(x): return xgb_model.predict(x).astype(int)\n",
    "\n",
    "print(\"Accuracy:\", (train_Y == f_xgb(train_X)).mean())"
   ]
  },
  {
   "cell_type": "markdown",
   "metadata": {
    "papermill": {
     "duration": 0.058023,
     "end_time": "2021-01-12T07:59:32.112840",
     "exception": false,
     "start_time": "2021-01-12T07:59:32.054817",
     "status": "completed"
    },
    "tags": []
   },
   "source": [
    "## Logistic regression"
   ]
  },
  {
   "cell_type": "code",
   "execution_count": 28,
   "metadata": {
    "execution": {
     "iopub.execute_input": "2021-01-12T07:59:32.223944Z",
     "iopub.status.busy": "2021-01-12T07:59:32.223070Z",
     "iopub.status.idle": "2021-01-12T07:59:32.367599Z",
     "shell.execute_reply": "2021-01-12T07:59:32.368295Z"
    },
    "papermill": {
     "duration": 0.201749,
     "end_time": "2021-01-12T07:59:32.368467",
     "exception": false,
     "start_time": "2021-01-12T07:59:32.166718",
     "status": "completed"
    },
    "tags": []
   },
   "outputs": [
    {
     "name": "stdout",
     "output_type": "stream",
     "text": [
      "Logistic regression coefficients: [[ 0.65505332 -0.01779128  0.00847377 -0.20156573 -0.18237865 -0.18148248\n",
      "   0.22411051  0.14844985 -0.37266776  0.02615856  0.04858053 -0.02073633\n",
      "   0.10083543  0.12822566  0.02894641 -0.00880327 -0.00607936 -0.29723502\n",
      "   0.10555396  0.00277864 -0.10844001  0.15043076  0.25478281 -0.72879155\n",
      "   0.38153986 -0.00551882 -0.0020222  -0.05052827]]\n",
      "Accuracy: 0.8271604938271605\n"
     ]
    }
   ],
   "source": [
    "from sklearn.linear_model import LogisticRegression\n",
    "from sklearn.metrics import confusion_matrix\n",
    "\n",
    "## cols_X = list(train_X)\n",
    "## train_X2 = train_X[['Sex', 'Age', 'Fare', 'fam_size', 'solo', 'large_fam', 'Pclass_2', 'Pclass_3', 'Cabin_B', 'Cabin_C', 'Cabin_D', 'Cabin_E', 'Cabin_F', 'Cabin_G', 'Cabin_T', 'Cabin_U', 'Embarked_Q', 'Embarked_S', 'Title_Miss', 'Title_Mr', 'Title_Mrs', 'Title_Noble', 'Title_Officer', 'Title_Professional']]\n",
    "train_X2 = train_X\n",
    "\n",
    "\n",
    "logreg=LogisticRegression(max_iter=1000, penalty='l2', C=0.02)\n",
    "\n",
    "logreg.fit(train_X2, train_Y)\n",
    "\n",
    "def f_logreg(x): return logreg.predict(x).astype(int)\n",
    "\n",
    "print(\"Logistic regression coefficients:\", logreg.coef_)\n",
    "\n",
    "print(\"Accuracy:\", (train_Y == f_logreg(train_X2)).mean())\n"
   ]
  },
  {
   "cell_type": "markdown",
   "metadata": {
    "papermill": {
     "duration": 0.045099,
     "end_time": "2021-01-12T07:59:32.462324",
     "exception": false,
     "start_time": "2021-01-12T07:59:32.417225",
     "status": "completed"
    },
    "tags": []
   },
   "source": [
    "## Support vector machine"
   ]
  },
  {
   "cell_type": "code",
   "execution_count": 29,
   "metadata": {
    "execution": {
     "iopub.execute_input": "2021-01-12T07:59:32.563412Z",
     "iopub.status.busy": "2021-01-12T07:59:32.562684Z",
     "iopub.status.idle": "2021-01-12T07:59:32.656157Z",
     "shell.execute_reply": "2021-01-12T07:59:32.656678Z"
    },
    "papermill": {
     "duration": 0.148738,
     "end_time": "2021-01-12T07:59:32.656834",
     "exception": false,
     "start_time": "2021-01-12T07:59:32.508096",
     "status": "completed"
    },
    "tags": []
   },
   "outputs": [
    {
     "name": "stdout",
     "output_type": "stream",
     "text": [
      "Accuracy: 0.8237934904601572\n"
     ]
    }
   ],
   "source": [
    "from sklearn.svm import SVC\n",
    "from sklearn.preprocessing import StandardScaler\n",
    "from sklearn.pipeline import make_pipeline\n",
    "\n",
    "clf = make_pipeline(StandardScaler(), SVC(gamma='scale', kernel='rbf', C=0.07)) # C is regularization parameter\n",
    "clf.fit(train_X, train_Y)\n",
    "\n",
    "def f_svn(x): return(clf.predict(x).astype(int))\n",
    "\n",
    "print(\"Accuracy:\", (f_svn(train_X)==train_Y).mean())\n",
    "##print(clf.get_params())"
   ]
  },
  {
   "cell_type": "code",
   "execution_count": 30,
   "metadata": {
    "execution": {
     "iopub.execute_input": "2021-01-12T07:59:32.760734Z",
     "iopub.status.busy": "2021-01-12T07:59:32.758650Z",
     "iopub.status.idle": "2021-01-12T07:59:32.810931Z",
     "shell.execute_reply": "2021-01-12T07:59:32.810364Z"
    },
    "papermill": {
     "duration": 0.107764,
     "end_time": "2021-01-12T07:59:32.811043",
     "exception": false,
     "start_time": "2021-01-12T07:59:32.703279",
     "status": "completed"
    },
    "tags": []
   },
   "outputs": [
    {
     "name": "stdout",
     "output_type": "stream",
     "text": [
      "Accuracy: 0.8462401795735129\n"
     ]
    }
   ],
   "source": [
    "from sklearn.neighbors import KNeighborsClassifier\n",
    "from sklearn.model_selection import KFold\n",
    "from sklearn.model_selection import cross_val_score\n",
    "\n",
    "knn = KNeighborsClassifier(n_neighbors=3)\n",
    "knn.fit(train_X, train_Y)\n",
    "\n",
    "def f_knn(x): return( knn.predict(x).astype(int))\n",
    "\n",
    "print(\"Accuracy:\", (f_knn(train_X)==train_Y).mean())"
   ]
  },
  {
   "cell_type": "markdown",
   "metadata": {
    "papermill": {
     "duration": 0.045307,
     "end_time": "2021-01-12T07:59:32.902685",
     "exception": false,
     "start_time": "2021-01-12T07:59:32.857378",
     "status": "completed"
    },
    "tags": []
   },
   "source": [
    "## Combine model predictions"
   ]
  },
  {
   "cell_type": "code",
   "execution_count": 31,
   "metadata": {
    "execution": {
     "iopub.execute_input": "2021-01-12T07:59:33.006458Z",
     "iopub.status.busy": "2021-01-12T07:59:33.005602Z",
     "iopub.status.idle": "2021-01-12T07:59:33.506089Z",
     "shell.execute_reply": "2021-01-12T07:59:33.504963Z"
    },
    "papermill": {
     "duration": 0.558072,
     "end_time": "2021-01-12T07:59:33.506278",
     "exception": false,
     "start_time": "2021-01-12T07:59:32.948206",
     "status": "completed"
    },
    "tags": []
   },
   "outputs": [
    {
     "name": "stdout",
     "output_type": "stream",
     "text": [
      "Accuracy (multi): 0.8406285072951739\n",
      "Survival rate in test set: 0.3708133971291866\n",
      "Your submission was successfully saved!\n"
     ]
    }
   ],
   "source": [
    "def f_multi(x):\n",
    "    ans = np.around(\n",
    "        (f_rfcl(x) + f_xgb(x) + f_logreg(x) +\n",
    "         f_svn(x) + f_knn(x))/5.0).astype(int)\n",
    "    return ans\n",
    "\n",
    "print(\"Accuracy (multi):\", (f_multi(train_X)==train_Y).mean())\n",
    "\n",
    "test_predict = f_multi(test_X) # get predictions on test set\n",
    "\n",
    "print(\"Survival rate in test set:\", test_predict.mean())\n",
    "\n",
    "# create data frame with passenger ids and prediction\n",
    "output = pd.DataFrame({'PassengerId': test_pid, 'Survived': test_predict})\n",
    "output.to_csv('my_submission.csv', index=False)\n",
    "print(\"Your submission was successfully saved!\")"
   ]
  },
  {
   "cell_type": "code",
   "execution_count": 32,
   "metadata": {
    "execution": {
     "iopub.execute_input": "2021-01-12T07:59:33.610110Z",
     "iopub.status.busy": "2021-01-12T07:59:33.609095Z",
     "iopub.status.idle": "2021-01-12T07:59:33.624675Z",
     "shell.execute_reply": "2021-01-12T07:59:33.624034Z"
    },
    "papermill": {
     "duration": 0.070922,
     "end_time": "2021-01-12T07:59:33.624791",
     "exception": false,
     "start_time": "2021-01-12T07:59:33.553869",
     "status": "completed"
    },
    "tags": []
   },
   "outputs": [
    {
     "data": {
      "text/html": [
       "<div>\n",
       "<style scoped>\n",
       "    .dataframe tbody tr th:only-of-type {\n",
       "        vertical-align: middle;\n",
       "    }\n",
       "\n",
       "    .dataframe tbody tr th {\n",
       "        vertical-align: top;\n",
       "    }\n",
       "\n",
       "    .dataframe thead th {\n",
       "        text-align: right;\n",
       "    }\n",
       "</style>\n",
       "<table border=\"1\" class=\"dataframe\">\n",
       "  <thead>\n",
       "    <tr style=\"text-align: right;\">\n",
       "      <th></th>\n",
       "      <th>PassengerId</th>\n",
       "      <th>Survived</th>\n",
       "    </tr>\n",
       "  </thead>\n",
       "  <tbody>\n",
       "    <tr>\n",
       "      <th>0</th>\n",
       "      <td>892</td>\n",
       "      <td>0</td>\n",
       "    </tr>\n",
       "    <tr>\n",
       "      <th>1</th>\n",
       "      <td>893</td>\n",
       "      <td>0</td>\n",
       "    </tr>\n",
       "    <tr>\n",
       "      <th>2</th>\n",
       "      <td>894</td>\n",
       "      <td>0</td>\n",
       "    </tr>\n",
       "    <tr>\n",
       "      <th>3</th>\n",
       "      <td>895</td>\n",
       "      <td>0</td>\n",
       "    </tr>\n",
       "    <tr>\n",
       "      <th>4</th>\n",
       "      <td>896</td>\n",
       "      <td>1</td>\n",
       "    </tr>\n",
       "    <tr>\n",
       "      <th>...</th>\n",
       "      <td>...</td>\n",
       "      <td>...</td>\n",
       "    </tr>\n",
       "    <tr>\n",
       "      <th>413</th>\n",
       "      <td>1305</td>\n",
       "      <td>0</td>\n",
       "    </tr>\n",
       "    <tr>\n",
       "      <th>414</th>\n",
       "      <td>1306</td>\n",
       "      <td>1</td>\n",
       "    </tr>\n",
       "    <tr>\n",
       "      <th>415</th>\n",
       "      <td>1307</td>\n",
       "      <td>0</td>\n",
       "    </tr>\n",
       "    <tr>\n",
       "      <th>416</th>\n",
       "      <td>1308</td>\n",
       "      <td>0</td>\n",
       "    </tr>\n",
       "    <tr>\n",
       "      <th>417</th>\n",
       "      <td>1309</td>\n",
       "      <td>1</td>\n",
       "    </tr>\n",
       "  </tbody>\n",
       "</table>\n",
       "<p>418 rows × 2 columns</p>\n",
       "</div>"
      ],
      "text/plain": [
       "     PassengerId  Survived\n",
       "0            892         0\n",
       "1            893         0\n",
       "2            894         0\n",
       "3            895         0\n",
       "4            896         1\n",
       "..           ...       ...\n",
       "413         1305         0\n",
       "414         1306         1\n",
       "415         1307         0\n",
       "416         1308         0\n",
       "417         1309         1\n",
       "\n",
       "[418 rows x 2 columns]"
      ]
     },
     "execution_count": 32,
     "metadata": {},
     "output_type": "execute_result"
    }
   ],
   "source": [
    "pd.read_csv('my_submission.csv')"
   ]
  }
 ],
 "metadata": {
  "kernelspec": {
   "display_name": "Python 3",
   "language": "python",
   "name": "python3"
  },
  "language_info": {
   "codemirror_mode": {
    "name": "ipython",
    "version": 3
   },
   "file_extension": ".py",
   "mimetype": "text/x-python",
   "name": "python",
   "nbconvert_exporter": "python",
   "pygments_lexer": "ipython3",
   "version": "3.7.6"
  },
  "papermill": {
   "duration": 14.624203,
   "end_time": "2021-01-12T07:59:33.780451",
   "environment_variables": {},
   "exception": null,
   "input_path": "__notebook__.ipynb",
   "output_path": "__notebook__.ipynb",
   "parameters": {},
   "start_time": "2021-01-12T07:59:19.156248",
   "version": "2.1.0"
  }
 },
 "nbformat": 4,
 "nbformat_minor": 4
}
